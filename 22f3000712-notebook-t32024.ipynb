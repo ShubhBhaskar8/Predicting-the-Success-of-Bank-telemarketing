{
 "cells": [
  {
   "cell_type": "code",
   "execution_count": 1,
   "id": "2db5afbf",
   "metadata": {
    "execution": {
     "iopub.execute_input": "2024-11-21T16:48:59.635218Z",
     "iopub.status.busy": "2024-11-21T16:48:59.633982Z",
     "iopub.status.idle": "2024-11-21T16:49:02.699039Z",
     "shell.execute_reply": "2024-11-21T16:49:02.697788Z"
    },
    "papermill": {
     "duration": 3.094929,
     "end_time": "2024-11-21T16:49:02.702162",
     "exception": false,
     "start_time": "2024-11-21T16:48:59.607233",
     "status": "completed"
    },
    "tags": []
   },
   "outputs": [],
   "source": [
    "#Importing necessary libraries\n",
    "import pandas as pd\n",
    "from pandas import *\n",
    "import numpy as np\n",
    "from sklearn.model_selection import train_test_split\n",
    "from sklearn.preprocessing import StandardScaler, LabelEncoder\n",
    "from sklearn.impute import SimpleImputer\n",
    "from imblearn.over_sampling import SMOTE\n",
    "from sklearn.metrics import f1_score, accuracy_score, confusion_matrix, classification_report\n",
    "from sklearn.ensemble import RandomForestClassifier"
   ]
  },
  {
   "cell_type": "code",
   "execution_count": 2,
   "id": "6d9c7d11",
   "metadata": {
    "execution": {
     "iopub.execute_input": "2024-11-21T16:49:02.739158Z",
     "iopub.status.busy": "2024-11-21T16:49:02.738026Z",
     "iopub.status.idle": "2024-11-21T16:49:02.911000Z",
     "shell.execute_reply": "2024-11-21T16:49:02.909704Z"
    },
    "papermill": {
     "duration": 0.194366,
     "end_time": "2024-11-21T16:49:02.913947",
     "exception": false,
     "start_time": "2024-11-21T16:49:02.719581",
     "status": "completed"
    },
    "tags": []
   },
   "outputs": [],
   "source": [
    "#importing thr train data\n",
    "data = pd.read_csv(\"/kaggle/input/predict-the-success-of-bank-telemarketing/train.csv\")"
   ]
  },
  {
   "cell_type": "markdown",
   "id": "ba551f51",
   "metadata": {
    "papermill": {
     "duration": 0.015513,
     "end_time": "2024-11-21T16:49:02.945561",
     "exception": false,
     "start_time": "2024-11-21T16:49:02.930048",
     "status": "completed"
    },
    "tags": []
   },
   "source": [
    "# EXPLORATORY DATA ANALYSIS & DATASET VISUALISATION"
   ]
  },
  {
   "cell_type": "code",
   "execution_count": 3,
   "id": "0cb5eace",
   "metadata": {
    "execution": {
     "iopub.execute_input": "2024-11-21T16:49:02.980558Z",
     "iopub.status.busy": "2024-11-21T16:49:02.980032Z",
     "iopub.status.idle": "2024-11-21T16:49:03.037314Z",
     "shell.execute_reply": "2024-11-21T16:49:03.035893Z"
    },
    "papermill": {
     "duration": 0.077576,
     "end_time": "2024-11-21T16:49:03.040014",
     "exception": false,
     "start_time": "2024-11-21T16:49:02.962438",
     "status": "completed"
    },
    "tags": []
   },
   "outputs": [
    {
     "name": "stdout",
     "output_type": "stream",
     "text": [
      "<class 'pandas.core.frame.DataFrame'>\n",
      "RangeIndex: 39211 entries, 0 to 39210\n",
      "Data columns (total 16 columns):\n",
      " #   Column             Non-Null Count  Dtype \n",
      "---  ------             --------------  ----- \n",
      " 0   last contact date  39211 non-null  object\n",
      " 1   age                39211 non-null  int64 \n",
      " 2   job                38982 non-null  object\n",
      " 3   marital            39211 non-null  object\n",
      " 4   education          37744 non-null  object\n",
      " 5   default            39211 non-null  object\n",
      " 6   balance            39211 non-null  int64 \n",
      " 7   housing            39211 non-null  object\n",
      " 8   loan               39211 non-null  object\n",
      " 9   contact            28875 non-null  object\n",
      " 10  duration           39211 non-null  int64 \n",
      " 11  campaign           39211 non-null  int64 \n",
      " 12  pdays              39211 non-null  int64 \n",
      " 13  previous           39211 non-null  int64 \n",
      " 14  poutcome           9760 non-null   object\n",
      " 15  target             39211 non-null  object\n",
      "dtypes: int64(6), object(10)\n",
      "memory usage: 4.8+ MB\n"
     ]
    }
   ],
   "source": [
    "data.info()"
   ]
  },
  {
   "cell_type": "code",
   "execution_count": 4,
   "id": "59417e2f",
   "metadata": {
    "execution": {
     "iopub.execute_input": "2024-11-21T16:49:03.074838Z",
     "iopub.status.busy": "2024-11-21T16:49:03.074306Z",
     "iopub.status.idle": "2024-11-21T16:49:03.124402Z",
     "shell.execute_reply": "2024-11-21T16:49:03.123133Z"
    },
    "papermill": {
     "duration": 0.070511,
     "end_time": "2024-11-21T16:49:03.127056",
     "exception": false,
     "start_time": "2024-11-21T16:49:03.056545",
     "status": "completed"
    },
    "tags": []
   },
   "outputs": [
    {
     "data": {
      "text/html": [
       "<div>\n",
       "<style scoped>\n",
       "    .dataframe tbody tr th:only-of-type {\n",
       "        vertical-align: middle;\n",
       "    }\n",
       "\n",
       "    .dataframe tbody tr th {\n",
       "        vertical-align: top;\n",
       "    }\n",
       "\n",
       "    .dataframe thead th {\n",
       "        text-align: right;\n",
       "    }\n",
       "</style>\n",
       "<table border=\"1\" class=\"dataframe\">\n",
       "  <thead>\n",
       "    <tr style=\"text-align: right;\">\n",
       "      <th></th>\n",
       "      <th>age</th>\n",
       "      <th>balance</th>\n",
       "      <th>duration</th>\n",
       "      <th>campaign</th>\n",
       "      <th>pdays</th>\n",
       "      <th>previous</th>\n",
       "    </tr>\n",
       "  </thead>\n",
       "  <tbody>\n",
       "    <tr>\n",
       "      <th>count</th>\n",
       "      <td>39211.000000</td>\n",
       "      <td>39211.000000</td>\n",
       "      <td>39211.000000</td>\n",
       "      <td>39211.000000</td>\n",
       "      <td>39211.000000</td>\n",
       "      <td>39211.000000</td>\n",
       "    </tr>\n",
       "    <tr>\n",
       "      <th>mean</th>\n",
       "      <td>42.120247</td>\n",
       "      <td>5441.781719</td>\n",
       "      <td>439.062789</td>\n",
       "      <td>5.108770</td>\n",
       "      <td>72.256051</td>\n",
       "      <td>11.826171</td>\n",
       "    </tr>\n",
       "    <tr>\n",
       "      <th>std</th>\n",
       "      <td>12.709352</td>\n",
       "      <td>16365.292065</td>\n",
       "      <td>769.096291</td>\n",
       "      <td>9.890153</td>\n",
       "      <td>160.942593</td>\n",
       "      <td>44.140259</td>\n",
       "    </tr>\n",
       "    <tr>\n",
       "      <th>min</th>\n",
       "      <td>18.000000</td>\n",
       "      <td>-8019.000000</td>\n",
       "      <td>0.000000</td>\n",
       "      <td>1.000000</td>\n",
       "      <td>-1.000000</td>\n",
       "      <td>0.000000</td>\n",
       "    </tr>\n",
       "    <tr>\n",
       "      <th>25%</th>\n",
       "      <td>33.000000</td>\n",
       "      <td>98.000000</td>\n",
       "      <td>109.000000</td>\n",
       "      <td>1.000000</td>\n",
       "      <td>-1.000000</td>\n",
       "      <td>0.000000</td>\n",
       "    </tr>\n",
       "    <tr>\n",
       "      <th>50%</th>\n",
       "      <td>40.000000</td>\n",
       "      <td>549.000000</td>\n",
       "      <td>197.000000</td>\n",
       "      <td>2.000000</td>\n",
       "      <td>-1.000000</td>\n",
       "      <td>0.000000</td>\n",
       "    </tr>\n",
       "    <tr>\n",
       "      <th>75%</th>\n",
       "      <td>50.000000</td>\n",
       "      <td>2030.000000</td>\n",
       "      <td>380.000000</td>\n",
       "      <td>4.000000</td>\n",
       "      <td>-1.000000</td>\n",
       "      <td>0.000000</td>\n",
       "    </tr>\n",
       "    <tr>\n",
       "      <th>max</th>\n",
       "      <td>95.000000</td>\n",
       "      <td>102127.000000</td>\n",
       "      <td>4918.000000</td>\n",
       "      <td>63.000000</td>\n",
       "      <td>871.000000</td>\n",
       "      <td>275.000000</td>\n",
       "    </tr>\n",
       "  </tbody>\n",
       "</table>\n",
       "</div>"
      ],
      "text/plain": [
       "                age        balance      duration      campaign         pdays  \\\n",
       "count  39211.000000   39211.000000  39211.000000  39211.000000  39211.000000   \n",
       "mean      42.120247    5441.781719    439.062789      5.108770     72.256051   \n",
       "std       12.709352   16365.292065    769.096291      9.890153    160.942593   \n",
       "min       18.000000   -8019.000000      0.000000      1.000000     -1.000000   \n",
       "25%       33.000000      98.000000    109.000000      1.000000     -1.000000   \n",
       "50%       40.000000     549.000000    197.000000      2.000000     -1.000000   \n",
       "75%       50.000000    2030.000000    380.000000      4.000000     -1.000000   \n",
       "max       95.000000  102127.000000   4918.000000     63.000000    871.000000   \n",
       "\n",
       "           previous  \n",
       "count  39211.000000  \n",
       "mean      11.826171  \n",
       "std       44.140259  \n",
       "min        0.000000  \n",
       "25%        0.000000  \n",
       "50%        0.000000  \n",
       "75%        0.000000  \n",
       "max      275.000000  "
      ]
     },
     "execution_count": 4,
     "metadata": {},
     "output_type": "execute_result"
    }
   ],
   "source": [
    "data.describe()"
   ]
  },
  {
   "cell_type": "code",
   "execution_count": 5,
   "id": "bb431e96",
   "metadata": {
    "execution": {
     "iopub.execute_input": "2024-11-21T16:49:03.163253Z",
     "iopub.status.busy": "2024-11-21T16:49:03.162815Z",
     "iopub.status.idle": "2024-11-21T16:49:03.181951Z",
     "shell.execute_reply": "2024-11-21T16:49:03.180722Z"
    },
    "papermill": {
     "duration": 0.040885,
     "end_time": "2024-11-21T16:49:03.184994",
     "exception": false,
     "start_time": "2024-11-21T16:49:03.144109",
     "status": "completed"
    },
    "tags": []
   },
   "outputs": [
    {
     "data": {
      "text/html": [
       "<div>\n",
       "<style scoped>\n",
       "    .dataframe tbody tr th:only-of-type {\n",
       "        vertical-align: middle;\n",
       "    }\n",
       "\n",
       "    .dataframe tbody tr th {\n",
       "        vertical-align: top;\n",
       "    }\n",
       "\n",
       "    .dataframe thead th {\n",
       "        text-align: right;\n",
       "    }\n",
       "</style>\n",
       "<table border=\"1\" class=\"dataframe\">\n",
       "  <thead>\n",
       "    <tr style=\"text-align: right;\">\n",
       "      <th></th>\n",
       "      <th>last contact date</th>\n",
       "      <th>age</th>\n",
       "      <th>job</th>\n",
       "      <th>marital</th>\n",
       "      <th>education</th>\n",
       "      <th>default</th>\n",
       "      <th>balance</th>\n",
       "      <th>housing</th>\n",
       "      <th>loan</th>\n",
       "      <th>contact</th>\n",
       "      <th>duration</th>\n",
       "      <th>campaign</th>\n",
       "      <th>pdays</th>\n",
       "      <th>previous</th>\n",
       "      <th>poutcome</th>\n",
       "      <th>target</th>\n",
       "    </tr>\n",
       "  </thead>\n",
       "  <tbody>\n",
       "    <tr>\n",
       "      <th>0</th>\n",
       "      <td>2009-04-17</td>\n",
       "      <td>26</td>\n",
       "      <td>blue-collar</td>\n",
       "      <td>married</td>\n",
       "      <td>secondary</td>\n",
       "      <td>no</td>\n",
       "      <td>647</td>\n",
       "      <td>yes</td>\n",
       "      <td>no</td>\n",
       "      <td>cellular</td>\n",
       "      <td>357</td>\n",
       "      <td>2</td>\n",
       "      <td>331</td>\n",
       "      <td>1</td>\n",
       "      <td>other</td>\n",
       "      <td>no</td>\n",
       "    </tr>\n",
       "    <tr>\n",
       "      <th>1</th>\n",
       "      <td>2009-10-11</td>\n",
       "      <td>52</td>\n",
       "      <td>technician</td>\n",
       "      <td>married</td>\n",
       "      <td>secondary</td>\n",
       "      <td>no</td>\n",
       "      <td>553</td>\n",
       "      <td>yes</td>\n",
       "      <td>no</td>\n",
       "      <td>telephone</td>\n",
       "      <td>160</td>\n",
       "      <td>1</td>\n",
       "      <td>-1</td>\n",
       "      <td>0</td>\n",
       "      <td>NaN</td>\n",
       "      <td>no</td>\n",
       "    </tr>\n",
       "    <tr>\n",
       "      <th>2</th>\n",
       "      <td>2010-11-20</td>\n",
       "      <td>44</td>\n",
       "      <td>blue-collar</td>\n",
       "      <td>married</td>\n",
       "      <td>secondary</td>\n",
       "      <td>no</td>\n",
       "      <td>1397</td>\n",
       "      <td>no</td>\n",
       "      <td>no</td>\n",
       "      <td>cellular</td>\n",
       "      <td>326</td>\n",
       "      <td>1</td>\n",
       "      <td>-1</td>\n",
       "      <td>0</td>\n",
       "      <td>NaN</td>\n",
       "      <td>no</td>\n",
       "    </tr>\n",
       "    <tr>\n",
       "      <th>3</th>\n",
       "      <td>2009-09-01</td>\n",
       "      <td>33</td>\n",
       "      <td>admin.</td>\n",
       "      <td>married</td>\n",
       "      <td>secondary</td>\n",
       "      <td>no</td>\n",
       "      <td>394</td>\n",
       "      <td>yes</td>\n",
       "      <td>no</td>\n",
       "      <td>telephone</td>\n",
       "      <td>104</td>\n",
       "      <td>3</td>\n",
       "      <td>-1</td>\n",
       "      <td>0</td>\n",
       "      <td>NaN</td>\n",
       "      <td>no</td>\n",
       "    </tr>\n",
       "    <tr>\n",
       "      <th>4</th>\n",
       "      <td>2008-01-29</td>\n",
       "      <td>31</td>\n",
       "      <td>entrepreneur</td>\n",
       "      <td>single</td>\n",
       "      <td>tertiary</td>\n",
       "      <td>no</td>\n",
       "      <td>137</td>\n",
       "      <td>no</td>\n",
       "      <td>no</td>\n",
       "      <td>cellular</td>\n",
       "      <td>445</td>\n",
       "      <td>2</td>\n",
       "      <td>-1</td>\n",
       "      <td>0</td>\n",
       "      <td>NaN</td>\n",
       "      <td>no</td>\n",
       "    </tr>\n",
       "    <tr>\n",
       "      <th>5</th>\n",
       "      <td>2009-05-07</td>\n",
       "      <td>25</td>\n",
       "      <td>entrepreneur</td>\n",
       "      <td>single</td>\n",
       "      <td>tertiary</td>\n",
       "      <td>no</td>\n",
       "      <td>140</td>\n",
       "      <td>yes</td>\n",
       "      <td>no</td>\n",
       "      <td>cellular</td>\n",
       "      <td>348</td>\n",
       "      <td>1</td>\n",
       "      <td>-1</td>\n",
       "      <td>0</td>\n",
       "      <td>NaN</td>\n",
       "      <td>no</td>\n",
       "    </tr>\n",
       "    <tr>\n",
       "      <th>6</th>\n",
       "      <td>2009-05-15</td>\n",
       "      <td>46</td>\n",
       "      <td>blue-collar</td>\n",
       "      <td>married</td>\n",
       "      <td>secondary</td>\n",
       "      <td>no</td>\n",
       "      <td>668</td>\n",
       "      <td>yes</td>\n",
       "      <td>no</td>\n",
       "      <td>NaN</td>\n",
       "      <td>1263</td>\n",
       "      <td>2</td>\n",
       "      <td>-1</td>\n",
       "      <td>0</td>\n",
       "      <td>NaN</td>\n",
       "      <td>yes</td>\n",
       "    </tr>\n",
       "    <tr>\n",
       "      <th>7</th>\n",
       "      <td>2010-05-08</td>\n",
       "      <td>37</td>\n",
       "      <td>admin.</td>\n",
       "      <td>married</td>\n",
       "      <td>secondary</td>\n",
       "      <td>no</td>\n",
       "      <td>14</td>\n",
       "      <td>yes</td>\n",
       "      <td>no</td>\n",
       "      <td>NaN</td>\n",
       "      <td>176</td>\n",
       "      <td>2</td>\n",
       "      <td>-1</td>\n",
       "      <td>0</td>\n",
       "      <td>NaN</td>\n",
       "      <td>no</td>\n",
       "    </tr>\n",
       "    <tr>\n",
       "      <th>8</th>\n",
       "      <td>2008-12-13</td>\n",
       "      <td>38</td>\n",
       "      <td>unemployed</td>\n",
       "      <td>divorced</td>\n",
       "      <td>primary</td>\n",
       "      <td>yes</td>\n",
       "      <td>14123</td>\n",
       "      <td>yes</td>\n",
       "      <td>yes</td>\n",
       "      <td>cellular</td>\n",
       "      <td>2370</td>\n",
       "      <td>4</td>\n",
       "      <td>852</td>\n",
       "      <td>4</td>\n",
       "      <td>other</td>\n",
       "      <td>no</td>\n",
       "    </tr>\n",
       "    <tr>\n",
       "      <th>9</th>\n",
       "      <td>2010-05-21</td>\n",
       "      <td>31</td>\n",
       "      <td>technician</td>\n",
       "      <td>married</td>\n",
       "      <td>secondary</td>\n",
       "      <td>no</td>\n",
       "      <td>589</td>\n",
       "      <td>yes</td>\n",
       "      <td>yes</td>\n",
       "      <td>NaN</td>\n",
       "      <td>151</td>\n",
       "      <td>1</td>\n",
       "      <td>-1</td>\n",
       "      <td>0</td>\n",
       "      <td>NaN</td>\n",
       "      <td>no</td>\n",
       "    </tr>\n",
       "  </tbody>\n",
       "</table>\n",
       "</div>"
      ],
      "text/plain": [
       "  last contact date  age           job   marital  education default  balance  \\\n",
       "0        2009-04-17   26   blue-collar   married  secondary      no      647   \n",
       "1        2009-10-11   52    technician   married  secondary      no      553   \n",
       "2        2010-11-20   44   blue-collar   married  secondary      no     1397   \n",
       "3        2009-09-01   33        admin.   married  secondary      no      394   \n",
       "4        2008-01-29   31  entrepreneur    single   tertiary      no      137   \n",
       "5        2009-05-07   25  entrepreneur    single   tertiary      no      140   \n",
       "6        2009-05-15   46   blue-collar   married  secondary      no      668   \n",
       "7        2010-05-08   37        admin.   married  secondary      no       14   \n",
       "8        2008-12-13   38    unemployed  divorced    primary     yes    14123   \n",
       "9        2010-05-21   31    technician   married  secondary      no      589   \n",
       "\n",
       "  housing loan    contact  duration  campaign  pdays  previous poutcome target  \n",
       "0     yes   no   cellular       357         2    331         1    other     no  \n",
       "1     yes   no  telephone       160         1     -1         0      NaN     no  \n",
       "2      no   no   cellular       326         1     -1         0      NaN     no  \n",
       "3     yes   no  telephone       104         3     -1         0      NaN     no  \n",
       "4      no   no   cellular       445         2     -1         0      NaN     no  \n",
       "5     yes   no   cellular       348         1     -1         0      NaN     no  \n",
       "6     yes   no        NaN      1263         2     -1         0      NaN    yes  \n",
       "7     yes   no        NaN       176         2     -1         0      NaN     no  \n",
       "8     yes  yes   cellular      2370         4    852         4    other     no  \n",
       "9     yes  yes        NaN       151         1     -1         0      NaN     no  "
      ]
     },
     "execution_count": 5,
     "metadata": {},
     "output_type": "execute_result"
    }
   ],
   "source": [
    "data.head(10)"
   ]
  },
  {
   "cell_type": "code",
   "execution_count": 6,
   "id": "1f4f34d8",
   "metadata": {
    "execution": {
     "iopub.execute_input": "2024-11-21T16:49:03.221095Z",
     "iopub.status.busy": "2024-11-21T16:49:03.220669Z",
     "iopub.status.idle": "2024-11-21T16:49:03.249829Z",
     "shell.execute_reply": "2024-11-21T16:49:03.248673Z"
    },
    "papermill": {
     "duration": 0.050424,
     "end_time": "2024-11-21T16:49:03.252304",
     "exception": false,
     "start_time": "2024-11-21T16:49:03.201880",
     "status": "completed"
    },
    "tags": []
   },
   "outputs": [
    {
     "data": {
      "text/plain": [
       "last contact date        0\n",
       "age                      0\n",
       "job                    229\n",
       "marital                  0\n",
       "education             1467\n",
       "default                  0\n",
       "balance                  0\n",
       "housing                  0\n",
       "loan                     0\n",
       "contact              10336\n",
       "duration                 0\n",
       "campaign                 0\n",
       "pdays                    0\n",
       "previous                 0\n",
       "poutcome             29451\n",
       "target                   0\n",
       "dtype: int64"
      ]
     },
     "execution_count": 6,
     "metadata": {},
     "output_type": "execute_result"
    }
   ],
   "source": [
    "data.isnull().sum()    #Finding out missing values in the dataset"
   ]
  },
  {
   "cell_type": "code",
   "execution_count": 7,
   "id": "6877a85a",
   "metadata": {
    "execution": {
     "iopub.execute_input": "2024-11-21T16:49:03.289087Z",
     "iopub.status.busy": "2024-11-21T16:49:03.288610Z",
     "iopub.status.idle": "2024-11-21T16:49:03.319022Z",
     "shell.execute_reply": "2024-11-21T16:49:03.317874Z"
    },
    "papermill": {
     "duration": 0.052954,
     "end_time": "2024-11-21T16:49:03.321827",
     "exception": false,
     "start_time": "2024-11-21T16:49:03.268873",
     "status": "completed"
    },
    "tags": []
   },
   "outputs": [],
   "source": [
    "# treating the missing values\n",
    "data[\"job\"] = np.where(data[\"job\"].isna(),data[\"job\"].mode(),data[\"job\"])\n",
    "data[\"education\"] = np.where(data[\"education\"].isna(),data[\"education\"].mode(),data[\"education\"])\n",
    "data[\"contact\"] = np.where(data[\"contact\"].isna(),data[\"contact\"].mode(),data[\"contact\"])\n",
    "data[\"poutcome\"] = np.where(data[\"poutcome\"].isna(),data[\"poutcome\"].mode(),data[\"poutcome\"])"
   ]
  },
  {
   "cell_type": "code",
   "execution_count": 8,
   "id": "b43a90dd",
   "metadata": {
    "execution": {
     "iopub.execute_input": "2024-11-21T16:49:03.359061Z",
     "iopub.status.busy": "2024-11-21T16:49:03.357927Z",
     "iopub.status.idle": "2024-11-21T16:49:03.388599Z",
     "shell.execute_reply": "2024-11-21T16:49:03.387388Z"
    },
    "papermill": {
     "duration": 0.052317,
     "end_time": "2024-11-21T16:49:03.391014",
     "exception": false,
     "start_time": "2024-11-21T16:49:03.338697",
     "status": "completed"
    },
    "tags": []
   },
   "outputs": [
    {
     "data": {
      "text/plain": [
       "last contact date    0\n",
       "age                  0\n",
       "job                  0\n",
       "marital              0\n",
       "education            0\n",
       "default              0\n",
       "balance              0\n",
       "housing              0\n",
       "loan                 0\n",
       "contact              0\n",
       "duration             0\n",
       "campaign             0\n",
       "pdays                0\n",
       "previous             0\n",
       "poutcome             0\n",
       "target               0\n",
       "dtype: int64"
      ]
     },
     "execution_count": 8,
     "metadata": {},
     "output_type": "execute_result"
    }
   ],
   "source": [
    "data.isnull().sum() #The missing values have successfully been replaced"
   ]
  },
  {
   "cell_type": "code",
   "execution_count": 9,
   "id": "c6cda9f0",
   "metadata": {
    "execution": {
     "iopub.execute_input": "2024-11-21T16:49:03.427243Z",
     "iopub.status.busy": "2024-11-21T16:49:03.426220Z",
     "iopub.status.idle": "2024-11-21T16:49:03.439167Z",
     "shell.execute_reply": "2024-11-21T16:49:03.438153Z"
    },
    "papermill": {
     "duration": 0.033545,
     "end_time": "2024-11-21T16:49:03.441629",
     "exception": false,
     "start_time": "2024-11-21T16:49:03.408084",
     "status": "completed"
    },
    "tags": []
   },
   "outputs": [],
   "source": [
    "data[\"last contact date\"] = to_datetime(data[\"last contact date\"],format=\"mixed\")  #Converting 'last contact date' into a datetime object"
   ]
  },
  {
   "cell_type": "code",
   "execution_count": 10,
   "id": "f5015d30",
   "metadata": {
    "execution": {
     "iopub.execute_input": "2024-11-21T16:49:03.478231Z",
     "iopub.status.busy": "2024-11-21T16:49:03.477128Z",
     "iopub.status.idle": "2024-11-21T16:49:03.543552Z",
     "shell.execute_reply": "2024-11-21T16:49:03.542527Z"
    },
    "papermill": {
     "duration": 0.087812,
     "end_time": "2024-11-21T16:49:03.546463",
     "exception": false,
     "start_time": "2024-11-21T16:49:03.458651",
     "status": "completed"
    },
    "tags": []
   },
   "outputs": [],
   "source": [
    "data[\"year\"] = data[\"last contact date\"].apply(lambda x: x.year) #Extracting the year data from given dates"
   ]
  },
  {
   "cell_type": "code",
   "execution_count": 11,
   "id": "e8cb2112",
   "metadata": {
    "execution": {
     "iopub.execute_input": "2024-11-21T16:49:03.582227Z",
     "iopub.status.busy": "2024-11-21T16:49:03.581768Z",
     "iopub.status.idle": "2024-11-21T16:49:03.600134Z",
     "shell.execute_reply": "2024-11-21T16:49:03.598723Z"
    },
    "papermill": {
     "duration": 0.039487,
     "end_time": "2024-11-21T16:49:03.603081",
     "exception": false,
     "start_time": "2024-11-21T16:49:03.563594",
     "status": "completed"
    },
    "tags": []
   },
   "outputs": [],
   "source": [
    "data.drop(columns=[\"last contact date\"],inplace = True)  # Removing the 'last contact date column'"
   ]
  },
  {
   "cell_type": "code",
   "execution_count": 12,
   "id": "8a177cd0",
   "metadata": {
    "execution": {
     "iopub.execute_input": "2024-11-21T16:49:03.639494Z",
     "iopub.status.busy": "2024-11-21T16:49:03.638364Z",
     "iopub.status.idle": "2024-11-21T16:49:04.782570Z",
     "shell.execute_reply": "2024-11-21T16:49:04.781287Z"
    },
    "papermill": {
     "duration": 1.165518,
     "end_time": "2024-11-21T16:49:04.785547",
     "exception": false,
     "start_time": "2024-11-21T16:49:03.620029",
     "status": "completed"
    },
    "tags": []
   },
   "outputs": [
    {
     "data": {
      "text/plain": [
       "<Axes: >"
      ]
     },
     "execution_count": 12,
     "metadata": {},
     "output_type": "execute_result"
    },
    {
     "data": {
      "image/png": "[encoded data removed]",
      "text/plain": [
       "<Figure size 640x480 with 1 Axes>"
      ]
     },
     "metadata": {},
     "output_type": "display_data"
    }
   ],
   "source": [
    "import seaborn as sns\n",
    "import matplotlib.pyplot as plt\n",
    "sns.boxplot(data)\n",
    "#Plotting a boxplot of the given dataset"
   ]
  },
  {
   "cell_type": "markdown",
   "id": "2dd95162",
   "metadata": {
    "papermill": {
     "duration": 0.017559,
     "end_time": "2024-11-21T16:49:04.822511",
     "exception": false,
     "start_time": "2024-11-21T16:49:04.804952",
     "status": "completed"
    },
    "tags": []
   },
   "source": [
    "**This boxplot shows the distribution of several variables on the x-axis (e.g., age, balance, duration, campaign, pdays, previous, and year) and their corresponding values on the y-axis.**\n",
    "\n",
    "**Balance:**\n",
    "\n",
    "1. This variable has an **extreme range**, with **many outliers** extending upwards, as indicated by the numerous data points far above the upper whisker.\n",
    "2. The interquartile range (IQR) and median are small compared to the scale of outliers.\n",
    "\n",
    "**Other Variables (age, duration, campaign, pdays, previous, year):**\n",
    "\n",
    "1. These variables have much smaller ranges and appear to cluster near zero, with relatively few outliers.\n",
    "2. Their boxplots are compressed due to the scale of the balance variable.\n"
   ]
  },
  {
   "cell_type": "code",
   "execution_count": 13,
   "id": "93ab6431",
   "metadata": {
    "execution": {
     "iopub.execute_input": "2024-11-21T16:49:04.859004Z",
     "iopub.status.busy": "2024-11-21T16:49:04.858167Z",
     "iopub.status.idle": "2024-11-21T16:49:04.867862Z",
     "shell.execute_reply": "2024-11-21T16:49:04.866687Z"
    },
    "papermill": {
     "duration": 0.030733,
     "end_time": "2024-11-21T16:49:04.870303",
     "exception": false,
     "start_time": "2024-11-21T16:49:04.839570",
     "status": "completed"
    },
    "tags": []
   },
   "outputs": [],
   "source": [
    "Q1 = np.percentile(data[\"balance\"],25,method=\"midpoint\")       #Defining a function Outlier Detection to mitigate 'Balance' of the high amount of outliers\n",
    "Q3 = np.percentile(data[\"balance\"],75,method=\"midpoint\")\n",
    "IQR = Q3 - Q1\n",
    "lower = Q1 - 1.5*IQR\n",
    "upper = Q3 + 1.5*IQR\n",
    "\n",
    "def outlier_detection(x):\n",
    "    if x <= upper and x >= lower:\n",
    "        return x\n",
    "    else:\n",
    "        data[\"balance\"].median()"
   ]
  },
  {
   "cell_type": "code",
   "execution_count": 14,
   "id": "b3be956e",
   "metadata": {
    "execution": {
     "iopub.execute_input": "2024-11-21T16:49:04.908191Z",
     "iopub.status.busy": "2024-11-21T16:49:04.907334Z",
     "iopub.status.idle": "2024-11-21T16:49:09.189213Z",
     "shell.execute_reply": "2024-11-21T16:49:09.188027Z"
    },
    "papermill": {
     "duration": 4.304419,
     "end_time": "2024-11-21T16:49:09.192097",
     "exception": false,
     "start_time": "2024-11-21T16:49:04.887678",
     "status": "completed"
    },
    "tags": []
   },
   "outputs": [],
   "source": [
    "data[\"balance\"] = data[\"balance\"].apply(outlier_detection)"
   ]
  },
  {
   "cell_type": "code",
   "execution_count": 15,
   "id": "c28bae9e",
   "metadata": {
    "execution": {
     "iopub.execute_input": "2024-11-21T16:49:09.230962Z",
     "iopub.status.busy": "2024-11-21T16:49:09.229851Z",
     "iopub.status.idle": "2024-11-21T16:49:09.672188Z",
     "shell.execute_reply": "2024-11-21T16:49:09.670997Z"
    },
    "papermill": {
     "duration": 0.464348,
     "end_time": "2024-11-21T16:49:09.674943",
     "exception": false,
     "start_time": "2024-11-21T16:49:09.210595",
     "status": "completed"
    },
    "tags": []
   },
   "outputs": [
    {
     "data": {
      "text/plain": [
       "<Axes: >"
      ]
     },
     "execution_count": 15,
     "metadata": {},
     "output_type": "execute_result"
    },
    {
     "data": {
      "image/png": "[encoded data removed]",
      "text/plain": [
       "<Figure size 640x480 with 1 Axes>"
      ]
     },
     "metadata": {},
     "output_type": "display_data"
    }
   ],
   "source": [
    "sns.boxplot(data)"
   ]
  },
  {
   "cell_type": "markdown",
   "id": "ec071292",
   "metadata": {
    "papermill": {
     "duration": 0.017592,
     "end_time": "2024-11-21T16:49:09.710510",
     "exception": false,
     "start_time": "2024-11-21T16:49:09.692918",
     "status": "completed"
    },
    "tags": []
   },
   "source": [
    "# NUMERIC FEATURES DISTRIBUTION & CORRRELATION"
   ]
  },
  {
   "cell_type": "code",
   "execution_count": 16,
   "id": "475b78ff",
   "metadata": {
    "execution": {
     "iopub.execute_input": "2024-11-21T16:49:09.749175Z",
     "iopub.status.busy": "2024-11-21T16:49:09.747974Z",
     "iopub.status.idle": "2024-11-21T16:49:09.787894Z",
     "shell.execute_reply": "2024-11-21T16:49:09.786714Z"
    },
    "papermill": {
     "duration": 0.062261,
     "end_time": "2024-11-21T16:49:09.790711",
     "exception": false,
     "start_time": "2024-11-21T16:49:09.728450",
     "status": "completed"
    },
    "tags": []
   },
   "outputs": [
    {
     "name": "stdout",
     "output_type": "stream",
     "text": [
      "duration    0.343325\n",
      "previous    0.263123\n",
      "pdays       0.258120\n",
      "campaign    0.217205\n",
      "age         0.111939\n",
      "balance     0.094230\n",
      "Name: target, dtype: float64\n"
     ]
    }
   ],
   "source": [
    "from sklearn.preprocessing import LabelEncoder\n",
    "\n",
    "# Encoding the target column\n",
    "encoder = LabelEncoder()\n",
    "data['target'] = encoder.fit_transform(data['target'])  # Converting 'yes' to 1 and 'no' to 0\n",
    "\n",
    "# Selecting numeric columns\n",
    "numeric_data = data.select_dtypes(include=[np.number])\n",
    "\n",
    "# Computing the correlation matrix\n",
    "correlation_matrix = numeric_data.corr()\n",
    "\n",
    "\n",
    "specific_columns = ['age', 'balance', 'duration', 'campaign', 'pdays', 'previous'] \n",
    "\n",
    "# Extracting correlation for the target column\n",
    "target_correlation = correlation_matrix['target']\n",
    "\n",
    "# Filtering and printing correlation for the numeric columns\n",
    "print(target_correlation[specific_columns].sort_values(ascending=False))\n"
   ]
  },
  {
   "cell_type": "markdown",
   "id": "39a49670",
   "metadata": {
    "papermill": {
     "duration": 0.01861,
     "end_time": "2024-11-21T16:49:09.829394",
     "exception": false,
     "start_time": "2024-11-21T16:49:09.810784",
     "status": "completed"
    },
    "tags": []
   },
   "source": [
    "# Correlation between target and numerical features\n",
    "* **duration (0.34)**: Moderate positive correlation. Longer call duration is associated with a higher likelihood of subscription.\n",
    "* **previous (0.26)**: Moderate positive correlation. More previous contacts are somewhat linked to subscribing.\n",
    "* **pdays (0.26)**: Moderate positive correlation. More time passed since last contact slightly increases the likelihood of subscription.\n",
    "* **campaign (0.22)**: Weak to moderate positive correlation. More contacts during the current campaign correlate with a slightly higher chance of subscribing.\n",
    "* **age (0.11)**: Very weak positive correlation. Age has a minor influence on the likelihood of subscribing.\n",
    "* **balance (0.09)**: Very weak positive correlation. Higher average balance is very slightly related to subscribing.\n"
   ]
  },
  {
   "cell_type": "code",
   "execution_count": 17,
   "id": "6879a8c7",
   "metadata": {
    "execution": {
     "iopub.execute_input": "2024-11-21T16:49:09.867430Z",
     "iopub.status.busy": "2024-11-21T16:49:09.866475Z",
     "iopub.status.idle": "2024-11-21T16:49:11.509124Z",
     "shell.execute_reply": "2024-11-21T16:49:11.507715Z"
    },
    "papermill": {
     "duration": 1.664411,
     "end_time": "2024-11-21T16:49:11.511616",
     "exception": false,
     "start_time": "2024-11-21T16:49:09.847205",
     "status": "completed"
    },
    "tags": []
   },
   "outputs": [
    {
     "name": "stderr",
     "output_type": "stream",
     "text": [
      "/opt/conda/lib/python3.10/site-packages/seaborn/_oldcore.py:1119: FutureWarning: use_inf_as_na option is deprecated and will be removed in a future version. Convert inf values to NaN before operating instead.\n",
      "  with pd.option_context('mode.use_inf_as_na', True):\n"
     ]
    },
    {
     "data": {
      "image/png": "[encoded data removed]",
      "text/plain": [
       "<Figure size 800x500 with 1 Axes>"
      ]
     },
     "metadata": {},
     "output_type": "display_data"
    },
    {
     "name": "stderr",
     "output_type": "stream",
     "text": [
      "/opt/conda/lib/python3.10/site-packages/seaborn/_oldcore.py:1119: FutureWarning: use_inf_as_na option is deprecated and will be removed in a future version. Convert inf values to NaN before operating instead.\n",
      "  with pd.option_context('mode.use_inf_as_na', True):\n"
     ]
    },
    {
     "data": {
      "image/png": "[encoded data removed]",
      "text/plain": [
       "<Figure size 800x500 with 1 Axes>"
      ]
     },
     "metadata": {},
     "output_type": "display_data"
    },
    {
     "name": "stderr",
     "output_type": "stream",
     "text": [
      "/opt/conda/lib/python3.10/site-packages/seaborn/_oldcore.py:1119: FutureWarning: use_inf_as_na option is deprecated and will be removed in a future version. Convert inf values to NaN before operating instead.\n",
      "  with pd.option_context('mode.use_inf_as_na', True):\n"
     ]
    },
    {
     "data": {
      "image/png": "[encoded data removed]",
      "text/plain": [
       "<Figure size 800x500 with 1 Axes>"
      ]
     },
     "metadata": {},
     "output_type": "display_data"
    },
    {
     "name": "stderr",
     "output_type": "stream",
     "text": [
      "/opt/conda/lib/python3.10/site-packages/seaborn/_oldcore.py:1119: FutureWarning: use_inf_as_na option is deprecated and will be removed in a future version. Convert inf values to NaN before operating instead.\n",
      "  with pd.option_context('mode.use_inf_as_na', True):\n"
     ]
    },
    {
     "data": {
      "image/png": "[encoded data removed]",
      "text/plain": [
       "<Figure size 800x500 with 1 Axes>"
      ]
     },
     "metadata": {},
     "output_type": "display_data"
    },
    {
     "name": "stderr",
     "output_type": "stream",
     "text": [
      "/opt/conda/lib/python3.10/site-packages/seaborn/_oldcore.py:1119: FutureWarning: use_inf_as_na option is deprecated and will be removed in a future version. Convert inf values to NaN before operating instead.\n",
      "  with pd.option_context('mode.use_inf_as_na', True):\n"
     ]
    },
    {
     "data": {
      "image/png": "[encoded data removed]",
      "text/plain": [
       "<Figure size 800x500 with 1 Axes>"
      ]
     },
     "metadata": {},
     "output_type": "display_data"
    },
    {
     "name": "stderr",
     "output_type": "stream",
     "text": [
      "/opt/conda/lib/python3.10/site-packages/seaborn/_oldcore.py:1119: FutureWarning: use_inf_as_na option is deprecated and will be removed in a future version. Convert inf values to NaN before operating instead.\n",
      "  with pd.option_context('mode.use_inf_as_na', True):\n"
     ]
    },
    {
     "data": {
      "image/png": "[encoded data removed]",
      "text/plain": [
       "<Figure size 800x500 with 1 Axes>"
      ]
     },
     "metadata": {},
     "output_type": "display_data"
    }
   ],
   "source": [
    "import matplotlib.pyplot as plt\n",
    "import seaborn as sns\n",
    "import numpy as np\n",
    "\n",
    "# Defining the features to visualize\n",
    "numerical_features = ['age', 'balance', 'duration', 'campaign', 'pdays', 'previous']  # Replace with your numerical column names\n",
    "\n",
    "for feature in numerical_features:\n",
    "    plt.figure(figsize=(8, 5))\n",
    "    \n",
    "    # Determine the range and bin size for the histogram\n",
    "    feature_min = data[feature].min()\n",
    "    feature_max = data[feature].max()\n",
    "    feature_range = feature_max - feature_min\n",
    "    bin_width = feature_range /10  # Set a reasonable bin width for 30 bins\n",
    "    bins = np.arange(feature_min, feature_max + bin_width, bin_width)\n",
    "    \n",
    "    # Compute histogram data\n",
    "    counts, bin_edges = np.histogram(data[feature], bins=bins)\n",
    "    bin_midpoints = (bin_edges[:-1] + bin_edges[1:]) / 2  # Midpoints of the bins\n",
    "    \n",
    "    # Plot histogram with black bar outlines\n",
    "    sns.histplot(data[feature], bins=bins, kde=False, color=\"skyblue\", edgecolor=\"black\", alpha=0.7, label=\"Histogram\")\n",
    "    \n",
    "    # Plot frequency polygon\n",
    "    plt.plot(bin_midpoints, counts, color=\"darkblue\", linewidth=2, marker='o', label=\"Frequency Polygon\")\n",
    "    \n",
    "    # Add titles and labels\n",
    "    plt.title(f\"Distribution of {feature}\")\n",
    "    plt.xlabel(feature)\n",
    "    plt.ylabel(\"Frequency\")\n",
    "    plt.legend()\n",
    "    \n",
    "    # Adjust the x-axis scale for better visualization\n",
    "    plt.xlim(feature_min - bin_width, feature_max + bin_width)  # Add a margin for better view\n",
    "    \n",
    "    plt.show()\n"
   ]
  },
  {
   "cell_type": "markdown",
   "id": "437ae6c9",
   "metadata": {
    "papermill": {
     "duration": 0.021844,
     "end_time": "2024-11-21T16:49:11.558209",
     "exception": false,
     "start_time": "2024-11-21T16:49:11.536365",
     "status": "completed"
    },
    "tags": []
   },
   "source": [
    "# CATEGORICAL FEATURES DISTRIBUTION AND FEATURE TARGET RELATIONSHIP"
   ]
  },
  {
   "cell_type": "code",
   "execution_count": 18,
   "id": "d63ea358",
   "metadata": {
    "execution": {
     "iopub.execute_input": "2024-11-21T16:49:11.604444Z",
     "iopub.status.busy": "2024-11-21T16:49:11.604006Z",
     "iopub.status.idle": "2024-11-21T16:49:13.029001Z",
     "shell.execute_reply": "2024-11-21T16:49:13.027747Z"
    },
    "papermill": {
     "duration": 1.452033,
     "end_time": "2024-11-21T16:49:13.032581",
     "exception": false,
     "start_time": "2024-11-21T16:49:11.580548",
     "status": "completed"
    },
    "tags": []
   },
   "outputs": [
    {
     "data": {
      "image/png": "[encoded data removed]",
      "text/plain": [
       "<Figure size 1500x1000 with 8 Axes>"
      ]
     },
     "metadata": {},
     "output_type": "display_data"
    }
   ],
   "source": [
    "import matplotlib.pyplot as plt\n",
    "\n",
    "# List of categorical columns\n",
    "categorical_columns = ['job', 'marital', 'education', 'default', 'housing', 'loan', 'contact', 'poutcome']\n",
    "\n",
    "# Set up the plot\n",
    "plt.figure(figsize=(15, 10))\n",
    "\n",
    "# Loop over each categorical column and plot\n",
    "for i, column in enumerate(categorical_columns, 1):\n",
    "    plt.subplot(3, 3, i)  # Create subplots (3 rows and 3 columns)\n",
    "    data[column].value_counts().plot(kind='bar', color='skyblue', edgecolor='black')\n",
    "    plt.title(f'Distribution of {column}')\n",
    "    plt.xlabel(column)\n",
    "    plt.ylabel('Count')\n",
    "    plt.xticks(rotation=45)\n",
    "\n",
    "plt.tight_layout()  # Adjust layout to prevent overlap\n",
    "plt.show()\n",
    "\n"
   ]
  },
  {
   "cell_type": "markdown",
   "id": "5002fcf3",
   "metadata": {
    "papermill": {
     "duration": 0.025483,
     "end_time": "2024-11-21T16:49:13.085807",
     "exception": false,
     "start_time": "2024-11-21T16:49:13.060324",
     "status": "completed"
    },
    "tags": []
   },
   "source": [
    "# Distribution of Categorical Variables\n",
    "* **Job**:The most common job types are **blue-collar**, **management**, and **technician**, while job types like student and retired are much less common.This suggests that the majority of people in the dataset have more traditional, working-class jobs.\n",
    "* **Marital Status**:**Married individuals** make up the largest group, followed by **single people**. The divorced group is the smallest.The majority of clients in the dataset are married, which could influence the likelihood of subscribing to a term deposit.\n",
    "* **Education**:The majority of clients have secondary education, with fewer clients having tertiary or primary education.\n",
    "* **Default** :The vast majority of clients have not defaulted.(marked by no)\n",
    "* **Housing**:A significant proportion of clients have a housing loan (marked by \"yes\"), while a smaller group does not.Having a housing loan might correlate with clients’ financial situation, potentially impacting their decision to subscribe to a term deposit.\n",
    "* **Loan** (Has Personal Loan):Most clients do not have a personal loan, with only a small fraction of clients having one.Similar to housing loans, this could provide insights into financial stability, which may affect the likelihood of subscribing to a term deposit.\n",
    "* **Contact Communication Type**:Cellular phones are the most common contact method, followed by telephone.This reflects modern communication trends and could impact how clients respond to marketing efforts.\n",
    "* **Poutcome**:A large number of clients have a failure outcome from the previous campaign, with very few clients having a success or other outcome.This indicates that previous campaigns may not have been very successful, which could influence the effectiveness of current marketing strategies.\n",
    "\n",
    "\n"
   ]
  },
  {
   "cell_type": "code",
   "execution_count": 19,
   "id": "89a6d877",
   "metadata": {
    "execution": {
     "iopub.execute_input": "2024-11-21T16:49:13.139500Z",
     "iopub.status.busy": "2024-11-21T16:49:13.138819Z",
     "iopub.status.idle": "2024-11-21T16:49:14.870023Z",
     "shell.execute_reply": "2024-11-21T16:49:14.868759Z"
    },
    "papermill": {
     "duration": 1.763369,
     "end_time": "2024-11-21T16:49:14.873593",
     "exception": false,
     "start_time": "2024-11-21T16:49:13.110224",
     "status": "completed"
    },
    "tags": []
   },
   "outputs": [
    {
     "data": {
      "image/png": "[encoded data removed]",
      "text/plain": [
       "<Figure size 1500x1000 with 8 Axes>"
      ]
     },
     "metadata": {},
     "output_type": "display_data"
    }
   ],
   "source": [
    "import seaborn as sns\n",
    "\n",
    "# Plot stacked bar charts for each categorical feature vs. target\n",
    "plt.figure(figsize=(15, 10))\n",
    "for i, column in enumerate(categorical_columns, 1):\n",
    "    plt.subplot(3, 3, i)\n",
    "    pd.crosstab(data[column], data['target']).plot(kind='bar', stacked=True, edgecolor='black', ax=plt.gca())\n",
    "    plt.title(f'{column} vs Target')\n",
    "    plt.xlabel(column)\n",
    "    plt.ylabel('Count')\n",
    "    plt.xticks(rotation=45)\n",
    "\n",
    "plt.tight_layout()\n",
    "plt.show()\n"
   ]
  },
  {
   "cell_type": "markdown",
   "id": "ddb37188",
   "metadata": {
    "papermill": {
     "duration": 0.028309,
     "end_time": "2024-11-21T16:49:14.932468",
     "exception": false,
     "start_time": "2024-11-21T16:49:14.904159",
     "status": "completed"
    },
    "tags": []
   },
   "source": [
    "# Feature Target Relationship\n",
    "\n",
    "* **Job vs Target** :\n",
    "Admin, blue-collar, and management jobs are more likely to have clients who did not subscribe to a term deposit (target = 0).Entrepreneur, student, and retired job types show a higher proportion of target = 1 (subscribed clients).Clients in more managerial or professional roles tend to be less likely to subscribe, while those in less traditional or lower-income roles might be more interested in term deposits.\n",
    "\n",
    "* **Marital Status vs Target** :\n",
    "Married individuals are more likely to not subscribe to a term deposit (dominantly target = 0).Single individuals show a slightly higher likelihood of subscribing to a term deposit.Divorced individuals also tend to have a higher subscription rate, similar to the single group.\n",
    "\n",
    "* **Education vs Target** :\n",
    "Clients with secondary education are mostly non-subscribers (target = 0), while tertiary and primary education groups have a more balanced split, with tertiary showing a higher proportion of subscribers.Primary education shows fewer total records, but the few subscribers suggest there may be an interesting segment in this group.\n",
    "\n",
    "* **Default vs Target** :\n",
    "Clients without credit in default (marked by \"no\") are overwhelmingly non-subscribers.Very few clients have credit in default (marked by \"yes\"), and those who do tend to have target = 0 (did not subscribe), indicating that clients who have defaulted are less likely to subscribe.\n",
    "\n",
    "* **Housing (Has Housing Loan) vs Target** :\n",
    "Clients who have a housing loan (marked by \"yes\") are more likely to be non-subscribers to a term deposit.The number of subscribers with a housing loan is still significant, but the trend favors non-subscribers in this category.\n",
    "\n",
    "* **Loan (Has Personal Loan?) vs Target** :\n",
    "Clients without a personal loan are overwhelmingly non-subscribers (target = 0), whereas clients with a personal loan are more likely to subscribe (target = 1), although still a minority.\n",
    "\n",
    "* **Contact Communication Type vs Target** :\n",
    "Cellular is the dominant contact method, and clients contacted via cellular are mostly non-subscribers.Very few clients were contacted via telephone, but the few who were contacted tend to have a higher subscription rate.\n",
    "\n",
    "* **Poutcome (Outcome of Previous Campaign) vs Target** :\n",
    "The failure outcome from previous campaigns is strongly associated with non-subscribers to the term deposit (dominantly target = 0).The success outcome shows a very small group of subscribers, suggesting that a successful prior campaign may increase the likelihood of subscription.\n"
   ]
  },
  {
   "cell_type": "code",
   "execution_count": 20,
   "id": "362621b2",
   "metadata": {
    "execution": {
     "iopub.execute_input": "2024-11-21T16:49:14.989148Z",
     "iopub.status.busy": "2024-11-21T16:49:14.988668Z",
     "iopub.status.idle": "2024-11-21T16:49:15.015103Z",
     "shell.execute_reply": "2024-11-21T16:49:15.013899Z"
    },
    "papermill": {
     "duration": 0.058055,
     "end_time": "2024-11-21T16:49:15.017842",
     "exception": false,
     "start_time": "2024-11-21T16:49:14.959787",
     "status": "completed"
    },
    "tags": []
   },
   "outputs": [
    {
     "name": "stdout",
     "output_type": "stream",
     "text": [
      "age : 78\n",
      "job : 11\n",
      "marital : 3\n",
      "education : 3\n",
      "default : 2\n",
      "balance : 4859\n",
      "housing : 2\n",
      "loan : 2\n",
      "contact : 2\n",
      "duration : 3146\n",
      "campaign : 63\n",
      "pdays : 865\n",
      "previous : 276\n",
      "poutcome : 3\n",
      "target : 2\n",
      "year : 3\n"
     ]
    }
   ],
   "source": [
    "for i in data.columns:\n",
    "    print(f\"{i} : {len(data[i].unique())}\") #Finding out number of unique values for each feature"
   ]
  },
  {
   "cell_type": "code",
   "execution_count": 21,
   "id": "12f42669",
   "metadata": {
    "execution": {
     "iopub.execute_input": "2024-11-21T16:49:15.078939Z",
     "iopub.status.busy": "2024-11-21T16:49:15.077946Z",
     "iopub.status.idle": "2024-11-21T16:49:15.127473Z",
     "shell.execute_reply": "2024-11-21T16:49:15.126199Z"
    },
    "papermill": {
     "duration": 0.085408,
     "end_time": "2024-11-21T16:49:15.130502",
     "exception": false,
     "start_time": "2024-11-21T16:49:15.045094",
     "status": "completed"
    },
    "tags": []
   },
   "outputs": [],
   "source": [
    "data = get_dummies(data,columns=[\"job\",\"default\",\"marital\",\"education\",\"housing\",\"loan\",\"contact\",\"poutcome\"]) #One Hot Encoding categroical variables"
   ]
  },
  {
   "cell_type": "code",
   "execution_count": 22,
   "id": "7d1d83e6",
   "metadata": {
    "execution": {
     "iopub.execute_input": "2024-11-21T16:49:15.187872Z",
     "iopub.status.busy": "2024-11-21T16:49:15.187352Z",
     "iopub.status.idle": "2024-11-21T16:49:15.229768Z",
     "shell.execute_reply": "2024-11-21T16:49:15.228311Z"
    },
    "papermill": {
     "duration": 0.075585,
     "end_time": "2024-11-21T16:49:15.233698",
     "exception": false,
     "start_time": "2024-11-21T16:49:15.158113",
     "status": "completed"
    },
    "tags": []
   },
   "outputs": [],
   "source": [
    "test_data = read_csv(\"/kaggle/input/predict-the-success-of-bank-telemarketing/test.csv\") #Importing the test dataset"
   ]
  },
  {
   "cell_type": "code",
   "execution_count": 23,
   "id": "19f61e2e",
   "metadata": {
    "execution": {
     "iopub.execute_input": "2024-11-21T16:49:15.311620Z",
     "iopub.status.busy": "2024-11-21T16:49:15.311114Z",
     "iopub.status.idle": "2024-11-21T16:49:15.333189Z",
     "shell.execute_reply": "2024-11-21T16:49:15.331841Z"
    },
    "papermill": {
     "duration": 0.059549,
     "end_time": "2024-11-21T16:49:15.335743",
     "exception": false,
     "start_time": "2024-11-21T16:49:15.276194",
     "status": "completed"
    },
    "tags": []
   },
   "outputs": [
    {
     "name": "stdout",
     "output_type": "stream",
     "text": [
      "<class 'pandas.core.frame.DataFrame'>\n",
      "RangeIndex: 10000 entries, 0 to 9999\n",
      "Data columns (total 15 columns):\n",
      " #   Column             Non-Null Count  Dtype \n",
      "---  ------             --------------  ----- \n",
      " 0   last contact date  10000 non-null  object\n",
      " 1   age                10000 non-null  int64 \n",
      " 2   job                9941 non-null   object\n",
      " 3   marital            10000 non-null  object\n",
      " 4   education          9610 non-null   object\n",
      " 5   default            10000 non-null  object\n",
      " 6   balance            10000 non-null  int64 \n",
      " 7   housing            10000 non-null  object\n",
      " 8   loan               10000 non-null  object\n",
      " 9   contact            7316 non-null   object\n",
      " 10  duration           10000 non-null  int64 \n",
      " 11  campaign           10000 non-null  int64 \n",
      " 12  pdays              10000 non-null  int64 \n",
      " 13  previous           10000 non-null  int64 \n",
      " 14  poutcome           2492 non-null   object\n",
      "dtypes: int64(6), object(9)\n",
      "memory usage: 1.1+ MB\n"
     ]
    }
   ],
   "source": [
    "test_data.info()"
   ]
  },
  {
   "cell_type": "code",
   "execution_count": 24,
   "id": "b1ccd95d",
   "metadata": {
    "execution": {
     "iopub.execute_input": "2024-11-21T16:49:15.394006Z",
     "iopub.status.busy": "2024-11-21T16:49:15.392985Z",
     "iopub.status.idle": "2024-11-21T16:49:15.407756Z",
     "shell.execute_reply": "2024-11-21T16:49:15.406386Z"
    },
    "papermill": {
     "duration": 0.047086,
     "end_time": "2024-11-21T16:49:15.410306",
     "exception": false,
     "start_time": "2024-11-21T16:49:15.363220",
     "status": "completed"
    },
    "tags": []
   },
   "outputs": [
    {
     "data": {
      "text/plain": [
       "last contact date       0\n",
       "age                     0\n",
       "job                    59\n",
       "marital                 0\n",
       "education             390\n",
       "default                 0\n",
       "balance                 0\n",
       "housing                 0\n",
       "loan                    0\n",
       "contact              2684\n",
       "duration                0\n",
       "campaign                0\n",
       "pdays                   0\n",
       "previous                0\n",
       "poutcome             7508\n",
       "dtype: int64"
      ]
     },
     "execution_count": 24,
     "metadata": {},
     "output_type": "execute_result"
    }
   ],
   "source": [
    "test_data.isnull().sum() #Finding out null values in test dataset"
   ]
  },
  {
   "cell_type": "code",
   "execution_count": 25,
   "id": "2304e896",
   "metadata": {
    "execution": {
     "iopub.execute_input": "2024-11-21T16:49:15.468693Z",
     "iopub.status.busy": "2024-11-21T16:49:15.468199Z",
     "iopub.status.idle": "2024-11-21T16:49:15.484888Z",
     "shell.execute_reply": "2024-11-21T16:49:15.483615Z"
    },
    "papermill": {
     "duration": 0.048698,
     "end_time": "2024-11-21T16:49:15.487492",
     "exception": false,
     "start_time": "2024-11-21T16:49:15.438794",
     "status": "completed"
    },
    "tags": []
   },
   "outputs": [],
   "source": [
    "#Treating the null values\n",
    "test_data[\"job\"] = np.where(test_data[\"job\"].isna(),test_data[\"job\"].mode(),test_data[\"job\"])\n",
    "test_data[\"education\"] = np.where(test_data[\"education\"].isna(),test_data[\"education\"].mode(),test_data[\"education\"])\n",
    "test_data[\"contact\"] = np.where(test_data[\"contact\"].isna(),test_data[\"contact\"].mode(),test_data[\"contact\"])\n",
    "test_data[\"poutcome\"] = np.where(test_data[\"poutcome\"].isna(),test_data[\"poutcome\"].mode(),test_data[\"poutcome\"])"
   ]
  },
  {
   "cell_type": "code",
   "execution_count": 26,
   "id": "b49e6a64",
   "metadata": {
    "execution": {
     "iopub.execute_input": "2024-11-21T16:49:15.546474Z",
     "iopub.status.busy": "2024-11-21T16:49:15.545991Z",
     "iopub.status.idle": "2024-11-21T16:49:15.563008Z",
     "shell.execute_reply": "2024-11-21T16:49:15.561780Z"
    },
    "papermill": {
     "duration": 0.050543,
     "end_time": "2024-11-21T16:49:15.566055",
     "exception": false,
     "start_time": "2024-11-21T16:49:15.515512",
     "status": "completed"
    },
    "tags": []
   },
   "outputs": [
    {
     "data": {
      "text/plain": [
       "last contact date    0\n",
       "age                  0\n",
       "job                  0\n",
       "marital              0\n",
       "education            0\n",
       "default              0\n",
       "balance              0\n",
       "housing              0\n",
       "loan                 0\n",
       "contact              0\n",
       "duration             0\n",
       "campaign             0\n",
       "pdays                0\n",
       "previous             0\n",
       "poutcome             0\n",
       "dtype: int64"
      ]
     },
     "execution_count": 26,
     "metadata": {},
     "output_type": "execute_result"
    }
   ],
   "source": [
    "test_data.isnull().sum() #The missing values have successfully been replaced"
   ]
  },
  {
   "cell_type": "code",
   "execution_count": 27,
   "id": "abab22e1",
   "metadata": {
    "execution": {
     "iopub.execute_input": "2024-11-21T16:49:15.622476Z",
     "iopub.status.busy": "2024-11-21T16:49:15.622011Z",
     "iopub.status.idle": "2024-11-21T16:49:15.632321Z",
     "shell.execute_reply": "2024-11-21T16:49:15.631167Z"
    },
    "papermill": {
     "duration": 0.041753,
     "end_time": "2024-11-21T16:49:15.634587",
     "exception": false,
     "start_time": "2024-11-21T16:49:15.592834",
     "status": "completed"
    },
    "tags": []
   },
   "outputs": [],
   "source": [
    "test_data[\"last contact date\"] = to_datetime(test_data[\"last contact date\"],format=\"mixed\") # Converting 'last contact date ' into a datetime object "
   ]
  },
  {
   "cell_type": "code",
   "execution_count": 28,
   "id": "a5d1d420",
   "metadata": {
    "execution": {
     "iopub.execute_input": "2024-11-21T16:49:15.690098Z",
     "iopub.status.busy": "2024-11-21T16:49:15.689656Z",
     "iopub.status.idle": "2024-11-21T16:49:15.711545Z",
     "shell.execute_reply": "2024-11-21T16:49:15.710163Z"
    },
    "papermill": {
     "duration": 0.052867,
     "end_time": "2024-11-21T16:49:15.714048",
     "exception": false,
     "start_time": "2024-11-21T16:49:15.661181",
     "status": "completed"
    },
    "tags": []
   },
   "outputs": [],
   "source": [
    "test_data[\"year\"] = test_data[\"last contact date\"].apply(lambda x: x.year) #Extracting the years from the given dates"
   ]
  },
  {
   "cell_type": "code",
   "execution_count": 29,
   "id": "0eb98460",
   "metadata": {
    "execution": {
     "iopub.execute_input": "2024-11-21T16:49:15.771388Z",
     "iopub.status.busy": "2024-11-21T16:49:15.770930Z",
     "iopub.status.idle": "2024-11-21T16:49:15.779721Z",
     "shell.execute_reply": "2024-11-21T16:49:15.778486Z"
    },
    "papermill": {
     "duration": 0.040243,
     "end_time": "2024-11-21T16:49:15.781939",
     "exception": false,
     "start_time": "2024-11-21T16:49:15.741696",
     "status": "completed"
    },
    "tags": []
   },
   "outputs": [],
   "source": [
    "test_data.drop(columns=[\"last contact date\"],inplace = True) #Dropping the 'last contact date' column "
   ]
  },
  {
   "cell_type": "code",
   "execution_count": 30,
   "id": "836f9933",
   "metadata": {
    "execution": {
     "iopub.execute_input": "2024-11-21T16:49:15.837849Z",
     "iopub.status.busy": "2024-11-21T16:49:15.837377Z",
     "iopub.status.idle": "2024-11-21T16:49:15.860498Z",
     "shell.execute_reply": "2024-11-21T16:49:15.859393Z"
    },
    "papermill": {
     "duration": 0.053993,
     "end_time": "2024-11-21T16:49:15.863295",
     "exception": false,
     "start_time": "2024-11-21T16:49:15.809302",
     "status": "completed"
    },
    "tags": []
   },
   "outputs": [],
   "source": [
    "test_data = get_dummies(test_data,columns=[\"job\",\"default\",\"marital\",\"education\",\"housing\",\"loan\",\"contact\",\"poutcome\"]) # One Hot Encoding the Categorical variables in the test data"
   ]
  },
  {
   "cell_type": "code",
   "execution_count": 31,
   "id": "49c42eee",
   "metadata": {
    "execution": {
     "iopub.execute_input": "2024-11-21T16:49:15.918890Z",
     "iopub.status.busy": "2024-11-21T16:49:15.918396Z",
     "iopub.status.idle": "2024-11-21T16:49:15.934345Z",
     "shell.execute_reply": "2024-11-21T16:49:15.932763Z"
    },
    "papermill": {
     "duration": 0.046884,
     "end_time": "2024-11-21T16:49:15.936769",
     "exception": false,
     "start_time": "2024-11-21T16:49:15.889885",
     "status": "completed"
    },
    "tags": []
   },
   "outputs": [
    {
     "name": "stdout",
     "output_type": "stream",
     "text": [
      "<class 'pandas.core.frame.DataFrame'>\n",
      "RangeIndex: 10000 entries, 0 to 9999\n",
      "Data columns (total 35 columns):\n",
      " #   Column               Non-Null Count  Dtype\n",
      "---  ------               --------------  -----\n",
      " 0   age                  10000 non-null  int64\n",
      " 1   balance              10000 non-null  int64\n",
      " 2   duration             10000 non-null  int64\n",
      " 3   campaign             10000 non-null  int64\n",
      " 4   pdays                10000 non-null  int64\n",
      " 5   previous             10000 non-null  int64\n",
      " 6   year                 10000 non-null  int64\n",
      " 7   job_admin.           10000 non-null  bool \n",
      " 8   job_blue-collar      10000 non-null  bool \n",
      " 9   job_entrepreneur     10000 non-null  bool \n",
      " 10  job_housemaid        10000 non-null  bool \n",
      " 11  job_management       10000 non-null  bool \n",
      " 12  job_retired          10000 non-null  bool \n",
      " 13  job_self-employed    10000 non-null  bool \n",
      " 14  job_services         10000 non-null  bool \n",
      " 15  job_student          10000 non-null  bool \n",
      " 16  job_technician       10000 non-null  bool \n",
      " 17  job_unemployed       10000 non-null  bool \n",
      " 18  default_no           10000 non-null  bool \n",
      " 19  default_yes          10000 non-null  bool \n",
      " 20  marital_divorced     10000 non-null  bool \n",
      " 21  marital_married      10000 non-null  bool \n",
      " 22  marital_single       10000 non-null  bool \n",
      " 23  education_primary    10000 non-null  bool \n",
      " 24  education_secondary  10000 non-null  bool \n",
      " 25  education_tertiary   10000 non-null  bool \n",
      " 26  housing_no           10000 non-null  bool \n",
      " 27  housing_yes          10000 non-null  bool \n",
      " 28  loan_no              10000 non-null  bool \n",
      " 29  loan_yes             10000 non-null  bool \n",
      " 30  contact_cellular     10000 non-null  bool \n",
      " 31  contact_telephone    10000 non-null  bool \n",
      " 32  poutcome_failure     10000 non-null  bool \n",
      " 33  poutcome_other       10000 non-null  bool \n",
      " 34  poutcome_success     10000 non-null  bool \n",
      "dtypes: bool(28), int64(7)\n",
      "memory usage: 820.4 KB\n"
     ]
    }
   ],
   "source": [
    "test_data.info()"
   ]
  },
  {
   "cell_type": "code",
   "execution_count": 32,
   "id": "a6ab3563",
   "metadata": {
    "execution": {
     "iopub.execute_input": "2024-11-21T16:49:15.992172Z",
     "iopub.status.busy": "2024-11-21T16:49:15.991739Z",
     "iopub.status.idle": "2024-11-21T16:49:16.091959Z",
     "shell.execute_reply": "2024-11-21T16:49:16.090587Z"
    },
    "papermill": {
     "duration": 0.131444,
     "end_time": "2024-11-21T16:49:16.094924",
     "exception": false,
     "start_time": "2024-11-21T16:49:15.963480",
     "status": "completed"
    },
    "tags": []
   },
   "outputs": [],
   "source": [
    "test_data.to_csv(\"transformed_test.csv\",index=False) #Saving the formatted test dataset"
   ]
  },
  {
   "cell_type": "code",
   "execution_count": 33,
   "id": "feb0322e",
   "metadata": {
    "execution": {
     "iopub.execute_input": "2024-11-21T16:49:16.243129Z",
     "iopub.status.busy": "2024-11-21T16:49:16.242024Z",
     "iopub.status.idle": "2024-11-21T16:49:16.248176Z",
     "shell.execute_reply": "2024-11-21T16:49:16.246689Z"
    },
    "papermill": {
     "duration": 0.127222,
     "end_time": "2024-11-21T16:49:16.250517",
     "exception": false,
     "start_time": "2024-11-21T16:49:16.123295",
     "status": "completed"
    },
    "tags": []
   },
   "outputs": [],
   "source": [
    "from sklearn.model_selection import train_test_split "
   ]
  },
  {
   "cell_type": "code",
   "execution_count": 34,
   "id": "f7ee9be4",
   "metadata": {
    "execution": {
     "iopub.execute_input": "2024-11-21T16:49:16.307696Z",
     "iopub.status.busy": "2024-11-21T16:49:16.307166Z",
     "iopub.status.idle": "2024-11-21T16:49:16.325813Z",
     "shell.execute_reply": "2024-11-21T16:49:16.324301Z"
    },
    "papermill": {
     "duration": 0.050017,
     "end_time": "2024-11-21T16:49:16.328451",
     "exception": false,
     "start_time": "2024-11-21T16:49:16.278434",
     "status": "completed"
    },
    "tags": []
   },
   "outputs": [],
   "source": [
    "x = data.drop(columns=[\"target\"]) #dropping the target column\n",
    "y = data[\"target\"]\n",
    "x_train,x_test,y_train,y_test = train_test_split(x,y,test_size=0.2, random_state=42) #\"Splitting the dataset into training (80%) and testing (20%) sets"
   ]
  },
  {
   "cell_type": "code",
   "execution_count": 35,
   "id": "ad7349ca",
   "metadata": {
    "execution": {
     "iopub.execute_input": "2024-11-21T16:49:16.384254Z",
     "iopub.status.busy": "2024-11-21T16:49:16.383796Z",
     "iopub.status.idle": "2024-11-21T16:49:16.395942Z",
     "shell.execute_reply": "2024-11-21T16:49:16.394710Z"
    },
    "papermill": {
     "duration": 0.043341,
     "end_time": "2024-11-21T16:49:16.398371",
     "exception": false,
     "start_time": "2024-11-21T16:49:16.355030",
     "status": "completed"
    },
    "tags": []
   },
   "outputs": [
    {
     "data": {
      "text/plain": [
       "age                       0\n",
       "balance                4287\n",
       "duration                  0\n",
       "campaign                  0\n",
       "pdays                     0\n",
       "previous                  0\n",
       "year                      0\n",
       "job_admin.                0\n",
       "job_blue-collar           0\n",
       "job_entrepreneur          0\n",
       "job_housemaid             0\n",
       "job_management            0\n",
       "job_retired               0\n",
       "job_self-employed         0\n",
       "job_services              0\n",
       "job_student               0\n",
       "job_technician            0\n",
       "job_unemployed            0\n",
       "default_no                0\n",
       "default_yes               0\n",
       "marital_divorced          0\n",
       "marital_married           0\n",
       "marital_single            0\n",
       "education_primary         0\n",
       "education_secondary       0\n",
       "education_tertiary        0\n",
       "housing_no                0\n",
       "housing_yes               0\n",
       "loan_no                   0\n",
       "loan_yes                  0\n",
       "contact_cellular          0\n",
       "contact_telephone         0\n",
       "poutcome_failure          0\n",
       "poutcome_other            0\n",
       "poutcome_success          0\n",
       "dtype: int64"
      ]
     },
     "execution_count": 35,
     "metadata": {},
     "output_type": "execute_result"
    }
   ],
   "source": [
    "x_train.isnull().sum() #checking x train for null values"
   ]
  },
  {
   "cell_type": "code",
   "execution_count": 36,
   "id": "a1bd8920",
   "metadata": {
    "execution": {
     "iopub.execute_input": "2024-11-21T16:49:16.458443Z",
     "iopub.status.busy": "2024-11-21T16:49:16.458017Z",
     "iopub.status.idle": "2024-11-21T16:49:16.466049Z",
     "shell.execute_reply": "2024-11-21T16:49:16.465004Z"
    },
    "papermill": {
     "duration": 0.041151,
     "end_time": "2024-11-21T16:49:16.468598",
     "exception": false,
     "start_time": "2024-11-21T16:49:16.427447",
     "status": "completed"
    },
    "tags": []
   },
   "outputs": [
    {
     "name": "stderr",
     "output_type": "stream",
     "text": [
      "/tmp/ipykernel_17/4024555072.py:1: FutureWarning: A value is trying to be set on a copy of a DataFrame or Series through chained assignment using an inplace method.\n",
      "The behavior will change in pandas 3.0. This inplace method will never work because the intermediate object on which we are setting values always behaves as a copy.\n",
      "\n",
      "For example, when doing 'df[col].method(value, inplace=True)', try using 'df.method({col: value}, inplace=True)' or df[col] = df[col].method(value) instead, to perform the operation inplace on the original object.\n",
      "\n",
      "\n",
      "  x_train['balance'].fillna(x_train['balance'].mean(),inplace=True) #Replacing null values\n"
     ]
    }
   ],
   "source": [
    "x_train['balance'].fillna(x_train['balance'].mean(),inplace=True) #Replacing null values"
   ]
  },
  {
   "cell_type": "code",
   "execution_count": 37,
   "id": "fd7244f1",
   "metadata": {
    "execution": {
     "iopub.execute_input": "2024-11-21T16:49:16.528318Z",
     "iopub.status.busy": "2024-11-21T16:49:16.527370Z",
     "iopub.status.idle": "2024-11-21T16:49:16.539678Z",
     "shell.execute_reply": "2024-11-21T16:49:16.538474Z"
    },
    "papermill": {
     "duration": 0.045183,
     "end_time": "2024-11-21T16:49:16.541903",
     "exception": false,
     "start_time": "2024-11-21T16:49:16.496720",
     "status": "completed"
    },
    "tags": []
   },
   "outputs": [
    {
     "data": {
      "text/plain": [
       "age                    0\n",
       "balance                0\n",
       "duration               0\n",
       "campaign               0\n",
       "pdays                  0\n",
       "previous               0\n",
       "year                   0\n",
       "job_admin.             0\n",
       "job_blue-collar        0\n",
       "job_entrepreneur       0\n",
       "job_housemaid          0\n",
       "job_management         0\n",
       "job_retired            0\n",
       "job_self-employed      0\n",
       "job_services           0\n",
       "job_student            0\n",
       "job_technician         0\n",
       "job_unemployed         0\n",
       "default_no             0\n",
       "default_yes            0\n",
       "marital_divorced       0\n",
       "marital_married        0\n",
       "marital_single         0\n",
       "education_primary      0\n",
       "education_secondary    0\n",
       "education_tertiary     0\n",
       "housing_no             0\n",
       "housing_yes            0\n",
       "loan_no                0\n",
       "loan_yes               0\n",
       "contact_cellular       0\n",
       "contact_telephone      0\n",
       "poutcome_failure       0\n",
       "poutcome_other         0\n",
       "poutcome_success       0\n",
       "dtype: int64"
      ]
     },
     "execution_count": 37,
     "metadata": {},
     "output_type": "execute_result"
    }
   ],
   "source": [
    "x_train.isnull().sum() #Null values have been replaced succefully"
   ]
  },
  {
   "cell_type": "code",
   "execution_count": 38,
   "id": "c02ab3c1",
   "metadata": {
    "execution": {
     "iopub.execute_input": "2024-11-21T16:49:16.599369Z",
     "iopub.status.busy": "2024-11-21T16:49:16.598873Z",
     "iopub.status.idle": "2024-11-21T16:49:16.610841Z",
     "shell.execute_reply": "2024-11-21T16:49:16.609688Z"
    },
    "papermill": {
     "duration": 0.044177,
     "end_time": "2024-11-21T16:49:16.613142",
     "exception": false,
     "start_time": "2024-11-21T16:49:16.568965",
     "status": "completed"
    },
    "tags": []
   },
   "outputs": [
    {
     "data": {
      "text/plain": [
       "age                       0\n",
       "balance                1087\n",
       "duration                  0\n",
       "campaign                  0\n",
       "pdays                     0\n",
       "previous                  0\n",
       "year                      0\n",
       "job_admin.                0\n",
       "job_blue-collar           0\n",
       "job_entrepreneur          0\n",
       "job_housemaid             0\n",
       "job_management            0\n",
       "job_retired               0\n",
       "job_self-employed         0\n",
       "job_services              0\n",
       "job_student               0\n",
       "job_technician            0\n",
       "job_unemployed            0\n",
       "default_no                0\n",
       "default_yes               0\n",
       "marital_divorced          0\n",
       "marital_married           0\n",
       "marital_single            0\n",
       "education_primary         0\n",
       "education_secondary       0\n",
       "education_tertiary        0\n",
       "housing_no                0\n",
       "housing_yes               0\n",
       "loan_no                   0\n",
       "loan_yes                  0\n",
       "contact_cellular          0\n",
       "contact_telephone         0\n",
       "poutcome_failure          0\n",
       "poutcome_other            0\n",
       "poutcome_success          0\n",
       "dtype: int64"
      ]
     },
     "execution_count": 38,
     "metadata": {},
     "output_type": "execute_result"
    }
   ],
   "source": [
    "x_test.isnull().sum() # Checking for null values in x_test"
   ]
  },
  {
   "cell_type": "code",
   "execution_count": 39,
   "id": "548e3705",
   "metadata": {
    "execution": {
     "iopub.execute_input": "2024-11-21T16:49:16.670423Z",
     "iopub.status.busy": "2024-11-21T16:49:16.669921Z",
     "iopub.status.idle": "2024-11-21T16:49:16.678149Z",
     "shell.execute_reply": "2024-11-21T16:49:16.676803Z"
    },
    "papermill": {
     "duration": 0.040557,
     "end_time": "2024-11-21T16:49:16.680754",
     "exception": false,
     "start_time": "2024-11-21T16:49:16.640197",
     "status": "completed"
    },
    "tags": []
   },
   "outputs": [
    {
     "name": "stderr",
     "output_type": "stream",
     "text": [
      "/tmp/ipykernel_17/3005434533.py:1: FutureWarning: A value is trying to be set on a copy of a DataFrame or Series through chained assignment using an inplace method.\n",
      "The behavior will change in pandas 3.0. This inplace method will never work because the intermediate object on which we are setting values always behaves as a copy.\n",
      "\n",
      "For example, when doing 'df[col].method(value, inplace=True)', try using 'df.method({col: value}, inplace=True)' or df[col] = df[col].method(value) instead, to perform the operation inplace on the original object.\n",
      "\n",
      "\n",
      "  x_test['balance'].fillna(x_test['balance'].mean(),inplace=True) #Replacing the null values\n"
     ]
    }
   ],
   "source": [
    "x_test['balance'].fillna(x_test['balance'].mean(),inplace=True) #Replacing the null values"
   ]
  },
  {
   "cell_type": "code",
   "execution_count": 40,
   "id": "762d0a71",
   "metadata": {
    "execution": {
     "iopub.execute_input": "2024-11-21T16:49:16.739537Z",
     "iopub.status.busy": "2024-11-21T16:49:16.739090Z",
     "iopub.status.idle": "2024-11-21T16:49:16.750801Z",
     "shell.execute_reply": "2024-11-21T16:49:16.749384Z"
    },
    "papermill": {
     "duration": 0.044368,
     "end_time": "2024-11-21T16:49:16.753516",
     "exception": false,
     "start_time": "2024-11-21T16:49:16.709148",
     "status": "completed"
    },
    "tags": []
   },
   "outputs": [
    {
     "data": {
      "text/plain": [
       "age                    0\n",
       "balance                0\n",
       "duration               0\n",
       "campaign               0\n",
       "pdays                  0\n",
       "previous               0\n",
       "year                   0\n",
       "job_admin.             0\n",
       "job_blue-collar        0\n",
       "job_entrepreneur       0\n",
       "job_housemaid          0\n",
       "job_management         0\n",
       "job_retired            0\n",
       "job_self-employed      0\n",
       "job_services           0\n",
       "job_student            0\n",
       "job_technician         0\n",
       "job_unemployed         0\n",
       "default_no             0\n",
       "default_yes            0\n",
       "marital_divorced       0\n",
       "marital_married        0\n",
       "marital_single         0\n",
       "education_primary      0\n",
       "education_secondary    0\n",
       "education_tertiary     0\n",
       "housing_no             0\n",
       "housing_yes            0\n",
       "loan_no                0\n",
       "loan_yes               0\n",
       "contact_cellular       0\n",
       "contact_telephone      0\n",
       "poutcome_failure       0\n",
       "poutcome_other         0\n",
       "poutcome_success       0\n",
       "dtype: int64"
      ]
     },
     "execution_count": 40,
     "metadata": {},
     "output_type": "execute_result"
    }
   ],
   "source": [
    "x_test.isnull().sum() # Successfully replaced the null values"
   ]
  },
  {
   "cell_type": "markdown",
   "id": "0fb8f679",
   "metadata": {
    "papermill": {
     "duration": 0.028293,
     "end_time": "2024-11-21T16:49:16.813043",
     "exception": false,
     "start_time": "2024-11-21T16:49:16.784750",
     "status": "completed"
    },
    "tags": []
   },
   "source": [
    "# MODEL 1 : DECISION TREE"
   ]
  },
  {
   "cell_type": "code",
   "execution_count": 41,
   "id": "4864582d",
   "metadata": {
    "execution": {
     "iopub.execute_input": "2024-11-21T16:49:16.871801Z",
     "iopub.status.busy": "2024-11-21T16:49:16.871357Z",
     "iopub.status.idle": "2024-11-21T16:49:16.876813Z",
     "shell.execute_reply": "2024-11-21T16:49:16.875383Z"
    },
    "papermill": {
     "duration": 0.037813,
     "end_time": "2024-11-21T16:49:16.879136",
     "exception": false,
     "start_time": "2024-11-21T16:49:16.841323",
     "status": "completed"
    },
    "tags": []
   },
   "outputs": [],
   "source": [
    "from sklearn.tree import DecisionTreeClassifier"
   ]
  },
  {
   "cell_type": "code",
   "execution_count": 42,
   "id": "69afa2a7",
   "metadata": {
    "execution": {
     "iopub.execute_input": "2024-11-21T16:49:16.939097Z",
     "iopub.status.busy": "2024-11-21T16:49:16.938676Z",
     "iopub.status.idle": "2024-11-21T16:49:16.943820Z",
     "shell.execute_reply": "2024-11-21T16:49:16.942366Z"
    },
    "papermill": {
     "duration": 0.03906,
     "end_time": "2024-11-21T16:49:16.946470",
     "exception": false,
     "start_time": "2024-11-21T16:49:16.907410",
     "status": "completed"
    },
    "tags": []
   },
   "outputs": [],
   "source": [
    "DT = DecisionTreeClassifier()"
   ]
  },
  {
   "cell_type": "code",
   "execution_count": 43,
   "id": "6c69ccd7",
   "metadata": {
    "execution": {
     "iopub.execute_input": "2024-11-21T16:49:17.004398Z",
     "iopub.status.busy": "2024-11-21T16:49:17.003964Z",
     "iopub.status.idle": "2024-11-21T16:49:17.277642Z",
     "shell.execute_reply": "2024-11-21T16:49:17.276434Z"
    },
    "papermill": {
     "duration": 0.305594,
     "end_time": "2024-11-21T16:49:17.279890",
     "exception": false,
     "start_time": "2024-11-21T16:49:16.974296",
     "status": "completed"
    },
    "tags": []
   },
   "outputs": [
    {
     "data": {
      "text/html": [
       "<style>#sk-container-id-1 {color: black;background-color: white;}#sk-container-id-1 pre{padding: 0;}#sk-container-id-1 div.sk-toggleable {background-color: white;}#sk-container-id-1 label.sk-toggleable__label {cursor: pointer;display: block;width: 100%;margin-bottom: 0;padding: 0.3em;box-sizing: border-box;text-align: center;}#sk-container-id-1 label.sk-toggleable__label-arrow:before {content: \"▸\";float: left;margin-right: 0.25em;color: #696969;}#sk-container-id-1 label.sk-toggleable__label-arrow:hover:before {color: black;}#sk-container-id-1 div.sk-estimator:hover label.sk-toggleable__label-arrow:before {color: black;}#sk-container-id-1 div.sk-toggleable__content {max-height: 0;max-width: 0;overflow: hidden;text-align: left;background-color: #f0f8ff;}#sk-container-id-1 div.sk-toggleable__content pre {margin: 0.2em;color: black;border-radius: 0.25em;background-color: #f0f8ff;}#sk-container-id-1 input.sk-toggleable__control:checked~div.sk-toggleable__content {max-height: 200px;max-width: 100%;overflow: auto;}#sk-container-id-1 input.sk-toggleable__control:checked~label.sk-toggleable__label-arrow:before {content: \"▾\";}#sk-container-id-1 div.sk-estimator input.sk-toggleable__control:checked~label.sk-toggleable__label {background-color: #d4ebff;}#sk-container-id-1 div.sk-label input.sk-toggleable__control:checked~label.sk-toggleable__label {background-color: #d4ebff;}#sk-container-id-1 input.sk-hidden--visually {border: 0;clip: rect(1px 1px 1px 1px);clip: rect(1px, 1px, 1px, 1px);height: 1px;margin: -1px;overflow: hidden;padding: 0;position: absolute;width: 1px;}#sk-container-id-1 div.sk-estimator {font-family: monospace;background-color: #f0f8ff;border: 1px dotted black;border-radius: 0.25em;box-sizing: border-box;margin-bottom: 0.5em;}#sk-container-id-1 div.sk-estimator:hover {background-color: #d4ebff;}#sk-container-id-1 div.sk-parallel-item::after {content: \"\";width: 100%;border-bottom: 1px solid gray;flex-grow: 1;}#sk-container-id-1 div.sk-label:hover label.sk-toggleable__label {background-color: #d4ebff;}#sk-container-id-1 div.sk-serial::before {content: \"\";position: absolute;border-left: 1px solid gray;box-sizing: border-box;top: 0;bottom: 0;left: 50%;z-index: 0;}#sk-container-id-1 div.sk-serial {display: flex;flex-direction: column;align-items: center;background-color: white;padding-right: 0.2em;padding-left: 0.2em;position: relative;}#sk-container-id-1 div.sk-item {position: relative;z-index: 1;}#sk-container-id-1 div.sk-parallel {display: flex;align-items: stretch;justify-content: center;background-color: white;position: relative;}#sk-container-id-1 div.sk-item::before, #sk-container-id-1 div.sk-parallel-item::before {content: \"\";position: absolute;border-left: 1px solid gray;box-sizing: border-box;top: 0;bottom: 0;left: 50%;z-index: -1;}#sk-container-id-1 div.sk-parallel-item {display: flex;flex-direction: column;z-index: 1;position: relative;background-color: white;}#sk-container-id-1 div.sk-parallel-item:first-child::after {align-self: flex-end;width: 50%;}#sk-container-id-1 div.sk-parallel-item:last-child::after {align-self: flex-start;width: 50%;}#sk-container-id-1 div.sk-parallel-item:only-child::after {width: 0;}#sk-container-id-1 div.sk-dashed-wrapped {border: 1px dashed gray;margin: 0 0.4em 0.5em 0.4em;box-sizing: border-box;padding-bottom: 0.4em;background-color: white;}#sk-container-id-1 div.sk-label label {font-family: monospace;font-weight: bold;display: inline-block;line-height: 1.2em;}#sk-container-id-1 div.sk-label-container {text-align: center;}#sk-container-id-1 div.sk-container {/* jupyter's `normalize.less` sets `[hidden] { display: none; }` but bootstrap.min.css set `[hidden] { display: none !important; }` so we also need the `!important` here to be able to override the default hidden behavior on the sphinx rendered scikit-learn.org. See: https://github.com/scikit-learn/scikit-learn/issues/21755 */display: inline-block !important;position: relative;}#sk-container-id-1 div.sk-text-repr-fallback {display: none;}</style><div id=\"sk-container-id-1\" class=\"sk-top-container\"><div class=\"sk-text-repr-fallback\"><pre>DecisionTreeClassifier()</pre><b>In a Jupyter environment, please rerun this cell to show the HTML representation or trust the notebook. <br />On GitHub, the HTML representation is unable to render, please try loading this page with nbviewer.org.</b></div><div class=\"sk-container\" hidden><div class=\"sk-item\"><div class=\"sk-estimator sk-toggleable\"><input class=\"sk-toggleable__control sk-hidden--visually\" id=\"sk-estimator-id-1\" type=\"checkbox\" checked><label for=\"sk-estimator-id-1\" class=\"sk-toggleable__label sk-toggleable__label-arrow\">DecisionTreeClassifier</label><div class=\"sk-toggleable__content\"><pre>DecisionTreeClassifier()</pre></div></div></div></div></div>"
      ],
      "text/plain": [
       "DecisionTreeClassifier()"
      ]
     },
     "execution_count": 43,
     "metadata": {},
     "output_type": "execute_result"
    }
   ],
   "source": [
    "DT.fit(x_train,y_train)"
   ]
  },
  {
   "cell_type": "code",
   "execution_count": 44,
   "id": "5b6cd277",
   "metadata": {
    "execution": {
     "iopub.execute_input": "2024-11-21T16:49:17.335550Z",
     "iopub.status.busy": "2024-11-21T16:49:17.335156Z",
     "iopub.status.idle": "2024-11-21T16:49:17.340350Z",
     "shell.execute_reply": "2024-11-21T16:49:17.339325Z"
    },
    "papermill": {
     "duration": 0.035812,
     "end_time": "2024-11-21T16:49:17.342612",
     "exception": false,
     "start_time": "2024-11-21T16:49:17.306800",
     "status": "completed"
    },
    "tags": []
   },
   "outputs": [],
   "source": [
    "from sklearn.metrics import classification_report"
   ]
  },
  {
   "cell_type": "code",
   "execution_count": 45,
   "id": "d8d771bb",
   "metadata": {
    "execution": {
     "iopub.execute_input": "2024-11-21T16:49:17.398974Z",
     "iopub.status.busy": "2024-11-21T16:49:17.398530Z",
     "iopub.status.idle": "2024-11-21T16:49:17.410244Z",
     "shell.execute_reply": "2024-11-21T16:49:17.409021Z"
    },
    "papermill": {
     "duration": 0.043258,
     "end_time": "2024-11-21T16:49:17.412778",
     "exception": false,
     "start_time": "2024-11-21T16:49:17.369520",
     "status": "completed"
    },
    "tags": []
   },
   "outputs": [],
   "source": [
    "y_pred = DT.predict(x_test)"
   ]
  },
  {
   "cell_type": "code",
   "execution_count": 46,
   "id": "51eb1b66",
   "metadata": {
    "execution": {
     "iopub.execute_input": "2024-11-21T16:49:17.473102Z",
     "iopub.status.busy": "2024-11-21T16:49:17.472641Z",
     "iopub.status.idle": "2024-11-21T16:49:17.480693Z",
     "shell.execute_reply": "2024-11-21T16:49:17.479298Z"
    },
    "papermill": {
     "duration": 0.041156,
     "end_time": "2024-11-21T16:49:17.482835",
     "exception": false,
     "start_time": "2024-11-21T16:49:17.441679",
     "status": "completed"
    },
    "tags": []
   },
   "outputs": [
    {
     "data": {
      "text/plain": [
       "33"
      ]
     },
     "execution_count": 46,
     "metadata": {},
     "output_type": "execute_result"
    }
   ],
   "source": [
    "DT.get_depth()#Finding out max depth of the tree"
   ]
  },
  {
   "cell_type": "code",
   "execution_count": 47,
   "id": "01276d04",
   "metadata": {
    "execution": {
     "iopub.execute_input": "2024-11-21T16:49:17.542725Z",
     "iopub.status.busy": "2024-11-21T16:49:17.541752Z",
     "iopub.status.idle": "2024-11-21T16:49:17.566440Z",
     "shell.execute_reply": "2024-11-21T16:49:17.565147Z"
    },
    "papermill": {
     "duration": 0.057694,
     "end_time": "2024-11-21T16:49:17.569176",
     "exception": false,
     "start_time": "2024-11-21T16:49:17.511482",
     "status": "completed"
    },
    "tags": []
   },
   "outputs": [
    {
     "name": "stdout",
     "output_type": "stream",
     "text": [
      "              precision    recall  f1-score   support\n",
      "\n",
      "           0       0.90      0.89      0.90      6645\n",
      "           1       0.42      0.43      0.42      1198\n",
      "\n",
      "    accuracy                           0.82      7843\n",
      "   macro avg       0.66      0.66      0.66      7843\n",
      "weighted avg       0.82      0.82      0.82      7843\n",
      "\n"
     ]
    }
   ],
   "source": [
    "print(classification_report(y_test,y_pred)) # vague run"
   ]
  },
  {
   "cell_type": "markdown",
   "id": "4b86e4aa",
   "metadata": {
    "papermill": {
     "duration": 0.028305,
     "end_time": "2024-11-21T16:49:17.626739",
     "exception": false,
     "start_time": "2024-11-21T16:49:17.598434",
     "status": "completed"
    },
    "tags": []
   },
   "source": [
    "# HYPERPARAMETER TUNING\n",
    "\n",
    "in the below code, I performed manual hyperparameter tuning on the Decision Tree model to optimize its performance. Specifically, I focused on two hyperparameters: **min_samples_split and min_samples_leaf.**\n",
    "\n",
    "**min_samples_split:** This parameter controls the minimum number of samples required to split an internal node. I experimented with different values (from 2 to 4) to determine the optimal value that maximizes the model's F1 score. A lower value allows the tree to grow deeper, while a higher value restricts the tree’s growth, which can help prevent overfitting.\n",
    "\n",
    "**min_samples_leaf:** This parameter specifies the minimum number of samples required to be at a leaf node. I kept it fixed at 1 for the experiments, meaning each leaf could contain a single sample. This is typically used to allow the model to learn from every individual sample but can lead to overfitting if not carefully controlled.\n",
    "\n",
    "For each combination of hyperparameters, I trained the Decision Tree model and evaluated its performance using the F1 score and accuracy on the training data. By manually adjusting these values and observing their impact on the **F1 score adn accuracy** , I aimed to find the best configuration that improves the model's performance while balancing bias and variance."
   ]
  },
  {
   "cell_type": "code",
   "execution_count": 48,
   "id": "9104af2f",
   "metadata": {
    "execution": {
     "iopub.execute_input": "2024-11-21T16:49:17.686350Z",
     "iopub.status.busy": "2024-11-21T16:49:17.685121Z",
     "iopub.status.idle": "2024-11-21T16:49:23.977615Z",
     "shell.execute_reply": "2024-11-21T16:49:23.976009Z"
    },
    "papermill": {
     "duration": 6.324924,
     "end_time": "2024-11-21T16:49:23.980184",
     "exception": false,
     "start_time": "2024-11-21T16:49:17.655260",
     "status": "completed"
    },
    "tags": []
   },
   "outputs": [
    {
     "name": "stdout",
     "output_type": "stream",
     "text": [
      "MAX DEPTH =  1\n",
      "              precision    recall  f1-score   support\n",
      "\n",
      "           0       0.85      1.00      0.92     26739\n",
      "           1       0.00      0.00      0.00      4629\n",
      "\n",
      "    accuracy                           0.85     31368\n",
      "   macro avg       0.43      0.50      0.46     31368\n",
      "weighted avg       0.73      0.85      0.78     31368\n",
      "\n",
      "MAX DEPTH =  2\n",
      "              precision    recall  f1-score   support\n",
      "\n",
      "           0       0.92      0.93      0.92     26739\n",
      "           1       0.55      0.51      0.53      4629\n",
      "\n",
      "    accuracy                           0.87     31368\n",
      "   macro avg       0.73      0.72      0.73     31368\n",
      "weighted avg       0.86      0.87      0.86     31368\n",
      "\n"
     ]
    },
    {
     "name": "stderr",
     "output_type": "stream",
     "text": [
      "/opt/conda/lib/python3.10/site-packages/sklearn/metrics/_classification.py:1344: UndefinedMetricWarning: Precision and F-score are ill-defined and being set to 0.0 in labels with no predicted samples. Use `zero_division` parameter to control this behavior.\n",
      "  _warn_prf(average, modifier, msg_start, len(result))\n",
      "/opt/conda/lib/python3.10/site-packages/sklearn/metrics/_classification.py:1344: UndefinedMetricWarning: Precision and F-score are ill-defined and being set to 0.0 in labels with no predicted samples. Use `zero_division` parameter to control this behavior.\n",
      "  _warn_prf(average, modifier, msg_start, len(result))\n",
      "/opt/conda/lib/python3.10/site-packages/sklearn/metrics/_classification.py:1344: UndefinedMetricWarning: Precision and F-score are ill-defined and being set to 0.0 in labels with no predicted samples. Use `zero_division` parameter to control this behavior.\n",
      "  _warn_prf(average, modifier, msg_start, len(result))\n"
     ]
    },
    {
     "name": "stdout",
     "output_type": "stream",
     "text": [
      "MAX DEPTH =  3\n",
      "              precision    recall  f1-score   support\n",
      "\n",
      "           0       0.92      0.93      0.92     26739\n",
      "           1       0.57      0.52      0.54      4629\n",
      "\n",
      "    accuracy                           0.87     31368\n",
      "   macro avg       0.74      0.73      0.73     31368\n",
      "weighted avg       0.87      0.87      0.87     31368\n",
      "\n",
      "MAX DEPTH =  4\n",
      "              precision    recall  f1-score   support\n",
      "\n",
      "           0       0.90      0.96      0.93     26739\n",
      "           1       0.61      0.35      0.45      4629\n",
      "\n",
      "    accuracy                           0.87     31368\n",
      "   macro avg       0.75      0.66      0.69     31368\n",
      "weighted avg       0.85      0.87      0.86     31368\n",
      "\n",
      "MAX DEPTH =  5\n",
      "              precision    recall  f1-score   support\n",
      "\n",
      "           0       0.91      0.95      0.93     26739\n",
      "           1       0.60      0.47      0.53      4629\n",
      "\n",
      "    accuracy                           0.88     31368\n",
      "   macro avg       0.75      0.71      0.73     31368\n",
      "weighted avg       0.87      0.88      0.87     31368\n",
      "\n",
      "MAX DEPTH =  6\n",
      "              precision    recall  f1-score   support\n",
      "\n",
      "           0       0.90      0.96      0.93     26739\n",
      "           1       0.65      0.38      0.48      4629\n",
      "\n",
      "    accuracy                           0.88     31368\n",
      "   macro avg       0.77      0.67      0.71     31368\n",
      "weighted avg       0.86      0.88      0.86     31368\n",
      "\n",
      "MAX DEPTH =  7\n",
      "              precision    recall  f1-score   support\n",
      "\n",
      "           0       0.91      0.96      0.93     26739\n",
      "           1       0.66      0.44      0.53      4629\n",
      "\n",
      "    accuracy                           0.88     31368\n",
      "   macro avg       0.78      0.70      0.73     31368\n",
      "weighted avg       0.87      0.88      0.87     31368\n",
      "\n",
      "MAX DEPTH =  8\n",
      "              precision    recall  f1-score   support\n",
      "\n",
      "           0       0.91      0.96      0.94     26739\n",
      "           1       0.68      0.47      0.55      4629\n",
      "\n",
      "    accuracy                           0.89     31368\n",
      "   macro avg       0.80      0.71      0.75     31368\n",
      "weighted avg       0.88      0.89      0.88     31368\n",
      "\n",
      "MAX DEPTH =  9\n",
      "              precision    recall  f1-score   support\n",
      "\n",
      "           0       0.92      0.95      0.94     26739\n",
      "           1       0.68      0.54      0.60      4629\n",
      "\n",
      "    accuracy                           0.89     31368\n",
      "   macro avg       0.80      0.75      0.77     31368\n",
      "weighted avg       0.89      0.89      0.89     31368\n",
      "\n",
      "MAX DEPTH =  10\n",
      "              precision    recall  f1-score   support\n",
      "\n",
      "           0       0.92      0.97      0.94     26739\n",
      "           1       0.73      0.54      0.62      4629\n",
      "\n",
      "    accuracy                           0.90     31368\n",
      "   macro avg       0.82      0.75      0.78     31368\n",
      "weighted avg       0.89      0.90      0.90     31368\n",
      "\n",
      "MAX DEPTH =  11\n",
      "              precision    recall  f1-score   support\n",
      "\n",
      "           0       0.92      0.97      0.95     26739\n",
      "           1       0.77      0.54      0.64      4629\n",
      "\n",
      "    accuracy                           0.91     31368\n",
      "   macro avg       0.85      0.76      0.79     31368\n",
      "weighted avg       0.90      0.91      0.90     31368\n",
      "\n",
      "MAX DEPTH =  12\n",
      "              precision    recall  f1-score   support\n",
      "\n",
      "           0       0.93      0.97      0.95     26739\n",
      "           1       0.79      0.60      0.68      4629\n",
      "\n",
      "    accuracy                           0.92     31368\n",
      "   macro avg       0.86      0.79      0.82     31368\n",
      "weighted avg       0.91      0.92      0.91     31368\n",
      "\n",
      "MAX DEPTH =  13\n",
      "              precision    recall  f1-score   support\n",
      "\n",
      "           0       0.94      0.98      0.96     26739\n",
      "           1       0.82      0.65      0.73      4629\n",
      "\n",
      "    accuracy                           0.93     31368\n",
      "   macro avg       0.88      0.81      0.84     31368\n",
      "weighted avg       0.92      0.93      0.92     31368\n",
      "\n",
      "MAX DEPTH =  14\n",
      "              precision    recall  f1-score   support\n",
      "\n",
      "           0       0.95      0.98      0.96     26739\n",
      "           1       0.85      0.69      0.76      4629\n",
      "\n",
      "    accuracy                           0.94     31368\n",
      "   macro avg       0.90      0.84      0.86     31368\n",
      "weighted avg       0.93      0.94      0.93     31368\n",
      "\n",
      "MAX DEPTH =  15\n",
      "              precision    recall  f1-score   support\n",
      "\n",
      "           0       0.96      0.98      0.97     26739\n",
      "           1       0.87      0.74      0.80      4629\n",
      "\n",
      "    accuracy                           0.95     31368\n",
      "   macro avg       0.91      0.86      0.88     31368\n",
      "weighted avg       0.94      0.95      0.94     31368\n",
      "\n",
      "MAX DEPTH =  16\n",
      "              precision    recall  f1-score   support\n",
      "\n",
      "           0       0.96      0.98      0.97     26739\n",
      "           1       0.89      0.78      0.83      4629\n",
      "\n",
      "    accuracy                           0.95     31368\n",
      "   macro avg       0.93      0.88      0.90     31368\n",
      "weighted avg       0.95      0.95      0.95     31368\n",
      "\n",
      "MAX DEPTH =  17\n",
      "              precision    recall  f1-score   support\n",
      "\n",
      "           0       0.97      0.99      0.98     26739\n",
      "           1       0.91      0.83      0.87      4629\n",
      "\n",
      "    accuracy                           0.96     31368\n",
      "   macro avg       0.94      0.91      0.92     31368\n",
      "weighted avg       0.96      0.96      0.96     31368\n",
      "\n",
      "MAX DEPTH =  18\n",
      "              precision    recall  f1-score   support\n",
      "\n",
      "           0       0.98      0.99      0.98     26739\n",
      "           1       0.93      0.86      0.89      4629\n",
      "\n",
      "    accuracy                           0.97     31368\n",
      "   macro avg       0.95      0.92      0.94     31368\n",
      "weighted avg       0.97      0.97      0.97     31368\n",
      "\n",
      "MAX DEPTH =  19\n",
      "              precision    recall  f1-score   support\n",
      "\n",
      "           0       0.98      0.99      0.99     26739\n",
      "           1       0.95      0.89      0.92      4629\n",
      "\n",
      "    accuracy                           0.98     31368\n",
      "   macro avg       0.96      0.94      0.95     31368\n",
      "weighted avg       0.98      0.98      0.98     31368\n",
      "\n",
      "MAX DEPTH =  20\n",
      "              precision    recall  f1-score   support\n",
      "\n",
      "           0       0.99      0.99      0.99     26739\n",
      "           1       0.96      0.92      0.94      4629\n",
      "\n",
      "    accuracy                           0.98     31368\n",
      "   macro avg       0.97      0.96      0.97     31368\n",
      "weighted avg       0.98      0.98      0.98     31368\n",
      "\n",
      "MAX DEPTH =  21\n",
      "              precision    recall  f1-score   support\n",
      "\n",
      "           0       0.99      1.00      0.99     26739\n",
      "           1       0.98      0.93      0.96      4629\n",
      "\n",
      "    accuracy                           0.99     31368\n",
      "   macro avg       0.99      0.97      0.98     31368\n",
      "weighted avg       0.99      0.99      0.99     31368\n",
      "\n",
      "MAX DEPTH =  22\n",
      "              precision    recall  f1-score   support\n",
      "\n",
      "           0       0.99      1.00      0.99     26739\n",
      "           1       0.99      0.95      0.97      4629\n",
      "\n",
      "    accuracy                           0.99     31368\n",
      "   macro avg       0.99      0.97      0.98     31368\n",
      "weighted avg       0.99      0.99      0.99     31368\n",
      "\n",
      "MAX DEPTH =  23\n",
      "              precision    recall  f1-score   support\n",
      "\n",
      "           0       0.99      1.00      1.00     26739\n",
      "           1       0.99      0.97      0.98      4629\n",
      "\n",
      "    accuracy                           0.99     31368\n",
      "   macro avg       0.99      0.98      0.99     31368\n",
      "weighted avg       0.99      0.99      0.99     31368\n",
      "\n",
      "MAX DEPTH =  24\n",
      "              precision    recall  f1-score   support\n",
      "\n",
      "           0       1.00      1.00      1.00     26739\n",
      "           1       0.99      0.98      0.99      4629\n",
      "\n",
      "    accuracy                           1.00     31368\n",
      "   macro avg       1.00      0.99      0.99     31368\n",
      "weighted avg       1.00      1.00      1.00     31368\n",
      "\n",
      "MAX DEPTH =  25\n",
      "              precision    recall  f1-score   support\n",
      "\n",
      "           0       1.00      1.00      1.00     26739\n",
      "           1       1.00      0.99      0.99      4629\n",
      "\n",
      "    accuracy                           1.00     31368\n",
      "   macro avg       1.00      0.99      0.99     31368\n",
      "weighted avg       1.00      1.00      1.00     31368\n",
      "\n",
      "MAX DEPTH =  26\n",
      "              precision    recall  f1-score   support\n",
      "\n",
      "           0       1.00      1.00      1.00     26739\n",
      "           1       1.00      0.99      0.99      4629\n",
      "\n",
      "    accuracy                           1.00     31368\n",
      "   macro avg       1.00      0.99      1.00     31368\n",
      "weighted avg       1.00      1.00      1.00     31368\n",
      "\n"
     ]
    }
   ],
   "source": [
    "for i in range(1,27):\n",
    "    DT = DecisionTreeClassifier(max_depth=i)\n",
    "    DT.fit(x_train,y_train)\n",
    "    y_pred = DT.predict(x_train)\n",
    "    print(\"MAX DEPTH = \",i)\n",
    "    print(classification_report(y_train,y_pred))"
   ]
  },
  {
   "cell_type": "code",
   "execution_count": 49,
   "id": "28cc612d",
   "metadata": {
    "execution": {
     "iopub.execute_input": "2024-11-21T16:49:24.045087Z",
     "iopub.status.busy": "2024-11-21T16:49:24.044241Z",
     "iopub.status.idle": "2024-11-21T16:49:26.112680Z",
     "shell.execute_reply": "2024-11-21T16:49:26.111586Z"
    },
    "papermill": {
     "duration": 2.104173,
     "end_time": "2024-11-21T16:49:26.114968",
     "exception": false,
     "start_time": "2024-11-21T16:49:24.010795",
     "status": "completed"
    },
    "tags": []
   },
   "outputs": [
    {
     "name": "stdout",
     "output_type": "stream",
     "text": [
      "MAX DEPTH =  1\n",
      "              precision    recall  f1-score   support\n",
      "\n",
      "           0       0.85      1.00      0.92      6645\n",
      "           1       0.00      0.00      0.00      1198\n",
      "\n",
      "    accuracy                           0.85      7843\n",
      "   macro avg       0.42      0.50      0.46      7843\n",
      "weighted avg       0.72      0.85      0.78      7843\n",
      "\n",
      "MAX DEPTH =  2\n",
      "              precision    recall  f1-score   support\n",
      "\n",
      "           0       0.91      0.92      0.92      6645\n",
      "           1       0.54      0.49      0.51      1198\n",
      "\n",
      "    accuracy                           0.86      7843\n",
      "   macro avg       0.72      0.71      0.71      7843\n",
      "weighted avg       0.85      0.86      0.85      7843\n",
      "\n",
      "MAX DEPTH =  3\n",
      "              precision    recall  f1-score   support\n",
      "\n",
      "           0       0.91      0.93      0.92      6645\n",
      "           1       0.55      0.50      0.53      1198\n",
      "\n",
      "    accuracy                           0.86      7843\n",
      "   macro avg       0.73      0.71      0.72      7843\n",
      "weighted avg       0.86      0.86      0.86      7843\n",
      "\n"
     ]
    },
    {
     "name": "stderr",
     "output_type": "stream",
     "text": [
      "/opt/conda/lib/python3.10/site-packages/sklearn/metrics/_classification.py:1344: UndefinedMetricWarning: Precision and F-score are ill-defined and being set to 0.0 in labels with no predicted samples. Use `zero_division` parameter to control this behavior.\n",
      "  _warn_prf(average, modifier, msg_start, len(result))\n",
      "/opt/conda/lib/python3.10/site-packages/sklearn/metrics/_classification.py:1344: UndefinedMetricWarning: Precision and F-score are ill-defined and being set to 0.0 in labels with no predicted samples. Use `zero_division` parameter to control this behavior.\n",
      "  _warn_prf(average, modifier, msg_start, len(result))\n",
      "/opt/conda/lib/python3.10/site-packages/sklearn/metrics/_classification.py:1344: UndefinedMetricWarning: Precision and F-score are ill-defined and being set to 0.0 in labels with no predicted samples. Use `zero_division` parameter to control this behavior.\n",
      "  _warn_prf(average, modifier, msg_start, len(result))\n"
     ]
    },
    {
     "name": "stdout",
     "output_type": "stream",
     "text": [
      "MAX DEPTH =  4\n",
      "              precision    recall  f1-score   support\n",
      "\n",
      "           0       0.89      0.96      0.92      6645\n",
      "           1       0.57      0.33      0.42      1198\n",
      "\n",
      "    accuracy                           0.86      7843\n",
      "   macro avg       0.73      0.64      0.67      7843\n",
      "weighted avg       0.84      0.86      0.84      7843\n",
      "\n",
      "MAX DEPTH =  5\n",
      "              precision    recall  f1-score   support\n",
      "\n",
      "           0       0.90      0.94      0.92      6645\n",
      "           1       0.56      0.45      0.50      1198\n",
      "\n",
      "    accuracy                           0.86      7843\n",
      "   macro avg       0.73      0.69      0.71      7843\n",
      "weighted avg       0.85      0.86      0.86      7843\n",
      "\n",
      "MAX DEPTH =  6\n",
      "              precision    recall  f1-score   support\n",
      "\n",
      "           0       0.89      0.95      0.92      6645\n",
      "           1       0.58      0.35      0.44      1198\n",
      "\n",
      "    accuracy                           0.86      7843\n",
      "   macro avg       0.73      0.65      0.68      7843\n",
      "weighted avg       0.84      0.86      0.85      7843\n",
      "\n",
      "MAX DEPTH =  7\n",
      "              precision    recall  f1-score   support\n",
      "\n",
      "           0       0.90      0.95      0.92      6645\n",
      "           1       0.56      0.39      0.46      1198\n",
      "\n",
      "    accuracy                           0.86      7843\n",
      "   macro avg       0.73      0.67      0.69      7843\n",
      "weighted avg       0.84      0.86      0.85      7843\n",
      "\n",
      "MAX DEPTH =  8\n",
      "              precision    recall  f1-score   support\n",
      "\n",
      "           0       0.89      0.94      0.92      6645\n",
      "           1       0.56      0.38      0.45      1198\n",
      "\n",
      "    accuracy                           0.86      7843\n",
      "   macro avg       0.73      0.66      0.69      7843\n",
      "weighted avg       0.84      0.86      0.85      7843\n",
      "\n",
      "MAX DEPTH =  9\n",
      "              precision    recall  f1-score   support\n",
      "\n",
      "           0       0.90      0.93      0.92      6645\n",
      "           1       0.54      0.45      0.49      1198\n",
      "\n",
      "    accuracy                           0.86      7843\n",
      "   macro avg       0.72      0.69      0.70      7843\n",
      "weighted avg       0.85      0.86      0.85      7843\n",
      "\n",
      "MAX DEPTH =  10\n",
      "              precision    recall  f1-score   support\n",
      "\n",
      "           0       0.90      0.94      0.92      6645\n",
      "           1       0.55      0.42      0.47      1198\n",
      "\n",
      "    accuracy                           0.86      7843\n",
      "   macro avg       0.72      0.68      0.70      7843\n",
      "weighted avg       0.85      0.86      0.85      7843\n",
      "\n",
      "MAX DEPTH =  11\n",
      "              precision    recall  f1-score   support\n",
      "\n",
      "           0       0.89      0.94      0.92      6645\n",
      "           1       0.53      0.39      0.45      1198\n",
      "\n",
      "    accuracy                           0.85      7843\n",
      "   macro avg       0.71      0.66      0.68      7843\n",
      "weighted avg       0.84      0.85      0.84      7843\n",
      "\n",
      "MAX DEPTH =  12\n",
      "              precision    recall  f1-score   support\n",
      "\n",
      "           0       0.90      0.93      0.92      6645\n",
      "           1       0.53      0.41      0.46      1198\n",
      "\n",
      "    accuracy                           0.85      7843\n",
      "   macro avg       0.71      0.67      0.69      7843\n",
      "weighted avg       0.84      0.85      0.85      7843\n",
      "\n",
      "MAX DEPTH =  13\n",
      "              precision    recall  f1-score   support\n",
      "\n",
      "           0       0.90      0.93      0.91      6645\n",
      "           1       0.51      0.41      0.46      1198\n",
      "\n",
      "    accuracy                           0.85      7843\n",
      "   macro avg       0.70      0.67      0.69      7843\n",
      "weighted avg       0.84      0.85      0.84      7843\n",
      "\n",
      "MAX DEPTH =  14\n",
      "              precision    recall  f1-score   support\n",
      "\n",
      "           0       0.90      0.93      0.91      6645\n",
      "           1       0.51      0.42      0.46      1198\n",
      "\n",
      "    accuracy                           0.85      7843\n",
      "   macro avg       0.70      0.67      0.68      7843\n",
      "weighted avg       0.84      0.85      0.84      7843\n",
      "\n"
     ]
    }
   ],
   "source": [
    "for i in range(1,15):\n",
    "    DT = DecisionTreeClassifier(max_depth=i)\n",
    "    DT.fit(x_train,y_train)\n",
    "    y_pred = DT.predict(x_test)\n",
    "    print(\"MAX DEPTH = \",i)\n",
    "    print(classification_report(y_test,y_pred))"
   ]
  },
  {
   "cell_type": "code",
   "execution_count": 50,
   "id": "dbc81cc2",
   "metadata": {
    "execution": {
     "iopub.execute_input": "2024-11-21T16:49:26.183335Z",
     "iopub.status.busy": "2024-11-21T16:49:26.182855Z",
     "iopub.status.idle": "2024-11-21T16:49:26.373963Z",
     "shell.execute_reply": "2024-11-21T16:49:26.372720Z"
    },
    "papermill": {
     "duration": 0.229507,
     "end_time": "2024-11-21T16:49:26.376470",
     "exception": false,
     "start_time": "2024-11-21T16:49:26.146963",
     "status": "completed"
    },
    "tags": []
   },
   "outputs": [
    {
     "data": {
      "text/html": [
       "<style>#sk-container-id-2 {color: black;background-color: white;}#sk-container-id-2 pre{padding: 0;}#sk-container-id-2 div.sk-toggleable {background-color: white;}#sk-container-id-2 label.sk-toggleable__label {cursor: pointer;display: block;width: 100%;margin-bottom: 0;padding: 0.3em;box-sizing: border-box;text-align: center;}#sk-container-id-2 label.sk-toggleable__label-arrow:before {content: \"▸\";float: left;margin-right: 0.25em;color: #696969;}#sk-container-id-2 label.sk-toggleable__label-arrow:hover:before {color: black;}#sk-container-id-2 div.sk-estimator:hover label.sk-toggleable__label-arrow:before {color: black;}#sk-container-id-2 div.sk-toggleable__content {max-height: 0;max-width: 0;overflow: hidden;text-align: left;background-color: #f0f8ff;}#sk-container-id-2 div.sk-toggleable__content pre {margin: 0.2em;color: black;border-radius: 0.25em;background-color: #f0f8ff;}#sk-container-id-2 input.sk-toggleable__control:checked~div.sk-toggleable__content {max-height: 200px;max-width: 100%;overflow: auto;}#sk-container-id-2 input.sk-toggleable__control:checked~label.sk-toggleable__label-arrow:before {content: \"▾\";}#sk-container-id-2 div.sk-estimator input.sk-toggleable__control:checked~label.sk-toggleable__label {background-color: #d4ebff;}#sk-container-id-2 div.sk-label input.sk-toggleable__control:checked~label.sk-toggleable__label {background-color: #d4ebff;}#sk-container-id-2 input.sk-hidden--visually {border: 0;clip: rect(1px 1px 1px 1px);clip: rect(1px, 1px, 1px, 1px);height: 1px;margin: -1px;overflow: hidden;padding: 0;position: absolute;width: 1px;}#sk-container-id-2 div.sk-estimator {font-family: monospace;background-color: #f0f8ff;border: 1px dotted black;border-radius: 0.25em;box-sizing: border-box;margin-bottom: 0.5em;}#sk-container-id-2 div.sk-estimator:hover {background-color: #d4ebff;}#sk-container-id-2 div.sk-parallel-item::after {content: \"\";width: 100%;border-bottom: 1px solid gray;flex-grow: 1;}#sk-container-id-2 div.sk-label:hover label.sk-toggleable__label {background-color: #d4ebff;}#sk-container-id-2 div.sk-serial::before {content: \"\";position: absolute;border-left: 1px solid gray;box-sizing: border-box;top: 0;bottom: 0;left: 50%;z-index: 0;}#sk-container-id-2 div.sk-serial {display: flex;flex-direction: column;align-items: center;background-color: white;padding-right: 0.2em;padding-left: 0.2em;position: relative;}#sk-container-id-2 div.sk-item {position: relative;z-index: 1;}#sk-container-id-2 div.sk-parallel {display: flex;align-items: stretch;justify-content: center;background-color: white;position: relative;}#sk-container-id-2 div.sk-item::before, #sk-container-id-2 div.sk-parallel-item::before {content: \"\";position: absolute;border-left: 1px solid gray;box-sizing: border-box;top: 0;bottom: 0;left: 50%;z-index: -1;}#sk-container-id-2 div.sk-parallel-item {display: flex;flex-direction: column;z-index: 1;position: relative;background-color: white;}#sk-container-id-2 div.sk-parallel-item:first-child::after {align-self: flex-end;width: 50%;}#sk-container-id-2 div.sk-parallel-item:last-child::after {align-self: flex-start;width: 50%;}#sk-container-id-2 div.sk-parallel-item:only-child::after {width: 0;}#sk-container-id-2 div.sk-dashed-wrapped {border: 1px dashed gray;margin: 0 0.4em 0.5em 0.4em;box-sizing: border-box;padding-bottom: 0.4em;background-color: white;}#sk-container-id-2 div.sk-label label {font-family: monospace;font-weight: bold;display: inline-block;line-height: 1.2em;}#sk-container-id-2 div.sk-label-container {text-align: center;}#sk-container-id-2 div.sk-container {/* jupyter's `normalize.less` sets `[hidden] { display: none; }` but bootstrap.min.css set `[hidden] { display: none !important; }` so we also need the `!important` here to be able to override the default hidden behavior on the sphinx rendered scikit-learn.org. See: https://github.com/scikit-learn/scikit-learn/issues/21755 */display: inline-block !important;position: relative;}#sk-container-id-2 div.sk-text-repr-fallback {display: none;}</style><div id=\"sk-container-id-2\" class=\"sk-top-container\"><div class=\"sk-text-repr-fallback\"><pre>DecisionTreeClassifier(max_depth=11)</pre><b>In a Jupyter environment, please rerun this cell to show the HTML representation or trust the notebook. <br />On GitHub, the HTML representation is unable to render, please try loading this page with nbviewer.org.</b></div><div class=\"sk-container\" hidden><div class=\"sk-item\"><div class=\"sk-estimator sk-toggleable\"><input class=\"sk-toggleable__control sk-hidden--visually\" id=\"sk-estimator-id-2\" type=\"checkbox\" checked><label for=\"sk-estimator-id-2\" class=\"sk-toggleable__label sk-toggleable__label-arrow\">DecisionTreeClassifier</label><div class=\"sk-toggleable__content\"><pre>DecisionTreeClassifier(max_depth=11)</pre></div></div></div></div></div>"
      ],
      "text/plain": [
       "DecisionTreeClassifier(max_depth=11)"
      ]
     },
     "execution_count": 50,
     "metadata": {},
     "output_type": "execute_result"
    }
   ],
   "source": [
    "# so\n",
    "DT = DecisionTreeClassifier(max_depth=11)\n",
    "DT.fit(x_train,y_train)"
   ]
  },
  {
   "cell_type": "code",
   "execution_count": 51,
   "id": "946e9077",
   "metadata": {
    "execution": {
     "iopub.execute_input": "2024-11-21T16:49:26.443983Z",
     "iopub.status.busy": "2024-11-21T16:49:26.443549Z",
     "iopub.status.idle": "2024-11-21T16:49:26.450569Z",
     "shell.execute_reply": "2024-11-21T16:49:26.449404Z"
    },
    "papermill": {
     "duration": 0.043603,
     "end_time": "2024-11-21T16:49:26.452821",
     "exception": false,
     "start_time": "2024-11-21T16:49:26.409218",
     "status": "completed"
    },
    "tags": []
   },
   "outputs": [
    {
     "data": {
      "text/plain": [
       "2"
      ]
     },
     "execution_count": 51,
     "metadata": {},
     "output_type": "execute_result"
    }
   ],
   "source": [
    "DT.min_samples_split  #Sets the minimum number of samples required to split an internal node"
   ]
  },
  {
   "cell_type": "code",
   "execution_count": 52,
   "id": "5d4d0191",
   "metadata": {
    "execution": {
     "iopub.execute_input": "2024-11-21T16:49:26.519405Z",
     "iopub.status.busy": "2024-11-21T16:49:26.518235Z",
     "iopub.status.idle": "2024-11-21T16:49:26.525266Z",
     "shell.execute_reply": "2024-11-21T16:49:26.524197Z"
    },
    "papermill": {
     "duration": 0.042917,
     "end_time": "2024-11-21T16:49:26.527604",
     "exception": false,
     "start_time": "2024-11-21T16:49:26.484687",
     "status": "completed"
    },
    "tags": []
   },
   "outputs": [
    {
     "data": {
      "text/plain": [
       "1"
      ]
     },
     "execution_count": 52,
     "metadata": {},
     "output_type": "execute_result"
    }
   ],
   "source": [
    "DT.min_samples_leaf #Sets the minimum number of samples required to be at a leaf node"
   ]
  },
  {
   "cell_type": "code",
   "execution_count": 53,
   "id": "82504341",
   "metadata": {
    "execution": {
     "iopub.execute_input": "2024-11-21T16:49:26.593294Z",
     "iopub.status.busy": "2024-11-21T16:49:26.592558Z",
     "iopub.status.idle": "2024-11-21T16:49:27.330675Z",
     "shell.execute_reply": "2024-11-21T16:49:27.329421Z"
    },
    "papermill": {
     "duration": 0.773289,
     "end_time": "2024-11-21T16:49:27.333112",
     "exception": false,
     "start_time": "2024-11-21T16:49:26.559823",
     "status": "completed"
    },
    "tags": []
   },
   "outputs": [
    {
     "name": "stdout",
     "output_type": "stream",
     "text": [
      "              precision    recall  f1-score   support\n",
      "\n",
      "           0       0.92      0.97      0.95     26739\n",
      "           1       0.77      0.54      0.64      4629\n",
      "\n",
      "    accuracy                           0.91     31368\n",
      "   macro avg       0.85      0.76      0.79     31368\n",
      "weighted avg       0.90      0.91      0.90     31368\n",
      "\n",
      "              precision    recall  f1-score   support\n",
      "\n",
      "           0       0.92      0.97      0.95     26739\n",
      "           1       0.77      0.54      0.64      4629\n",
      "\n",
      "    accuracy                           0.91     31368\n",
      "   macro avg       0.85      0.76      0.79     31368\n",
      "weighted avg       0.90      0.91      0.90     31368\n",
      "\n",
      "              precision    recall  f1-score   support\n",
      "\n",
      "           0       0.92      0.97      0.95     26739\n",
      "           1       0.77      0.54      0.64      4629\n",
      "\n",
      "    accuracy                           0.91     31368\n",
      "   macro avg       0.85      0.76      0.79     31368\n",
      "weighted avg       0.90      0.91      0.90     31368\n",
      "\n"
     ]
    }
   ],
   "source": [
    "for i in range(2,5):\n",
    "    DT = DecisionTreeClassifier(max_depth=11,min_samples_split=i,min_samples_leaf=1)\n",
    "    DT.fit(x_train,y_train)\n",
    "    y_pred = DT.predict(x_train)\n",
    "    print(classification_report(y_train,y_pred))  #evaluating how changing the min_samples_split parameter affects the model's performance on the training data"
   ]
  },
  {
   "cell_type": "code",
   "execution_count": 54,
   "id": "6991cca5",
   "metadata": {
    "execution": {
     "iopub.execute_input": "2024-11-21T16:49:27.399128Z",
     "iopub.status.busy": "2024-11-21T16:49:27.398666Z",
     "iopub.status.idle": "2024-11-21T16:49:28.342487Z",
     "shell.execute_reply": "2024-11-21T16:49:28.341121Z"
    },
    "papermill": {
     "duration": 0.980218,
     "end_time": "2024-11-21T16:49:28.345346",
     "exception": false,
     "start_time": "2024-11-21T16:49:27.365128",
     "status": "completed"
    },
    "tags": []
   },
   "outputs": [
    {
     "name": "stdout",
     "output_type": "stream",
     "text": [
      "              precision    recall  f1-score   support\n",
      "\n",
      "           0       0.93      0.97      0.95     26739\n",
      "           1       0.77      0.55      0.64      4629\n",
      "\n",
      "    accuracy                           0.91     31368\n",
      "   macro avg       0.85      0.76      0.79     31368\n",
      "weighted avg       0.90      0.91      0.90     31368\n",
      "\n",
      "              precision    recall  f1-score   support\n",
      "\n",
      "           0       0.92      0.97      0.95     26739\n",
      "           1       0.77      0.53      0.62      4629\n",
      "\n",
      "    accuracy                           0.91     31368\n",
      "   macro avg       0.85      0.75      0.79     31368\n",
      "weighted avg       0.90      0.91      0.90     31368\n",
      "\n",
      "              precision    recall  f1-score   support\n",
      "\n",
      "           0       0.92      0.97      0.95     26739\n",
      "           1       0.75      0.53      0.62      4629\n",
      "\n",
      "    accuracy                           0.91     31368\n",
      "   macro avg       0.84      0.75      0.78     31368\n",
      "weighted avg       0.90      0.91      0.90     31368\n",
      "\n",
      "              precision    recall  f1-score   support\n",
      "\n",
      "           0       0.92      0.97      0.94     26739\n",
      "           1       0.75      0.51      0.61      4629\n",
      "\n",
      "    accuracy                           0.90     31368\n",
      "   macro avg       0.83      0.74      0.78     31368\n",
      "weighted avg       0.89      0.90      0.89     31368\n",
      "\n"
     ]
    }
   ],
   "source": [
    "for i in range(1,5):\n",
    "    DT = DecisionTreeClassifier(max_depth=11,min_samples_split=2,min_samples_leaf=i)\n",
    "    DT.fit(x_train,y_train)\n",
    "    y_pred = DT.predict(x_train)\n",
    "    print(classification_report(y_train,y_pred)) #evaluatig how changing the min_samples_leaf parameter affects the model's performance on the training data"
   ]
  },
  {
   "cell_type": "code",
   "execution_count": 55,
   "id": "d7a5e763",
   "metadata": {
    "execution": {
     "iopub.execute_input": "2024-11-21T16:49:28.414003Z",
     "iopub.status.busy": "2024-11-21T16:49:28.413571Z",
     "iopub.status.idle": "2024-11-21T16:49:28.462490Z",
     "shell.execute_reply": "2024-11-21T16:49:28.461238Z"
    },
    "papermill": {
     "duration": 0.087432,
     "end_time": "2024-11-21T16:49:28.465361",
     "exception": false,
     "start_time": "2024-11-21T16:49:28.377929",
     "status": "completed"
    },
    "tags": []
   },
   "outputs": [],
   "source": [
    "test_data = read_csv(\"transformed_test.csv\")"
   ]
  },
  {
   "cell_type": "code",
   "execution_count": 56,
   "id": "3d20369b",
   "metadata": {
    "execution": {
     "iopub.execute_input": "2024-11-21T16:49:28.531344Z",
     "iopub.status.busy": "2024-11-21T16:49:28.530849Z",
     "iopub.status.idle": "2024-11-21T16:49:28.721916Z",
     "shell.execute_reply": "2024-11-21T16:49:28.720679Z"
    },
    "papermill": {
     "duration": 0.226681,
     "end_time": "2024-11-21T16:49:28.724258",
     "exception": false,
     "start_time": "2024-11-21T16:49:28.497577",
     "status": "completed"
    },
    "tags": []
   },
   "outputs": [
    {
     "data": {
      "text/html": [
       "<style>#sk-container-id-3 {color: black;background-color: white;}#sk-container-id-3 pre{padding: 0;}#sk-container-id-3 div.sk-toggleable {background-color: white;}#sk-container-id-3 label.sk-toggleable__label {cursor: pointer;display: block;width: 100%;margin-bottom: 0;padding: 0.3em;box-sizing: border-box;text-align: center;}#sk-container-id-3 label.sk-toggleable__label-arrow:before {content: \"▸\";float: left;margin-right: 0.25em;color: #696969;}#sk-container-id-3 label.sk-toggleable__label-arrow:hover:before {color: black;}#sk-container-id-3 div.sk-estimator:hover label.sk-toggleable__label-arrow:before {color: black;}#sk-container-id-3 div.sk-toggleable__content {max-height: 0;max-width: 0;overflow: hidden;text-align: left;background-color: #f0f8ff;}#sk-container-id-3 div.sk-toggleable__content pre {margin: 0.2em;color: black;border-radius: 0.25em;background-color: #f0f8ff;}#sk-container-id-3 input.sk-toggleable__control:checked~div.sk-toggleable__content {max-height: 200px;max-width: 100%;overflow: auto;}#sk-container-id-3 input.sk-toggleable__control:checked~label.sk-toggleable__label-arrow:before {content: \"▾\";}#sk-container-id-3 div.sk-estimator input.sk-toggleable__control:checked~label.sk-toggleable__label {background-color: #d4ebff;}#sk-container-id-3 div.sk-label input.sk-toggleable__control:checked~label.sk-toggleable__label {background-color: #d4ebff;}#sk-container-id-3 input.sk-hidden--visually {border: 0;clip: rect(1px 1px 1px 1px);clip: rect(1px, 1px, 1px, 1px);height: 1px;margin: -1px;overflow: hidden;padding: 0;position: absolute;width: 1px;}#sk-container-id-3 div.sk-estimator {font-family: monospace;background-color: #f0f8ff;border: 1px dotted black;border-radius: 0.25em;box-sizing: border-box;margin-bottom: 0.5em;}#sk-container-id-3 div.sk-estimator:hover {background-color: #d4ebff;}#sk-container-id-3 div.sk-parallel-item::after {content: \"\";width: 100%;border-bottom: 1px solid gray;flex-grow: 1;}#sk-container-id-3 div.sk-label:hover label.sk-toggleable__label {background-color: #d4ebff;}#sk-container-id-3 div.sk-serial::before {content: \"\";position: absolute;border-left: 1px solid gray;box-sizing: border-box;top: 0;bottom: 0;left: 50%;z-index: 0;}#sk-container-id-3 div.sk-serial {display: flex;flex-direction: column;align-items: center;background-color: white;padding-right: 0.2em;padding-left: 0.2em;position: relative;}#sk-container-id-3 div.sk-item {position: relative;z-index: 1;}#sk-container-id-3 div.sk-parallel {display: flex;align-items: stretch;justify-content: center;background-color: white;position: relative;}#sk-container-id-3 div.sk-item::before, #sk-container-id-3 div.sk-parallel-item::before {content: \"\";position: absolute;border-left: 1px solid gray;box-sizing: border-box;top: 0;bottom: 0;left: 50%;z-index: -1;}#sk-container-id-3 div.sk-parallel-item {display: flex;flex-direction: column;z-index: 1;position: relative;background-color: white;}#sk-container-id-3 div.sk-parallel-item:first-child::after {align-self: flex-end;width: 50%;}#sk-container-id-3 div.sk-parallel-item:last-child::after {align-self: flex-start;width: 50%;}#sk-container-id-3 div.sk-parallel-item:only-child::after {width: 0;}#sk-container-id-3 div.sk-dashed-wrapped {border: 1px dashed gray;margin: 0 0.4em 0.5em 0.4em;box-sizing: border-box;padding-bottom: 0.4em;background-color: white;}#sk-container-id-3 div.sk-label label {font-family: monospace;font-weight: bold;display: inline-block;line-height: 1.2em;}#sk-container-id-3 div.sk-label-container {text-align: center;}#sk-container-id-3 div.sk-container {/* jupyter's `normalize.less` sets `[hidden] { display: none; }` but bootstrap.min.css set `[hidden] { display: none !important; }` so we also need the `!important` here to be able to override the default hidden behavior on the sphinx rendered scikit-learn.org. See: https://github.com/scikit-learn/scikit-learn/issues/21755 */display: inline-block !important;position: relative;}#sk-container-id-3 div.sk-text-repr-fallback {display: none;}</style><div id=\"sk-container-id-3\" class=\"sk-top-container\"><div class=\"sk-text-repr-fallback\"><pre>DecisionTreeClassifier(max_depth=11, min_samples_split=3)</pre><b>In a Jupyter environment, please rerun this cell to show the HTML representation or trust the notebook. <br />On GitHub, the HTML representation is unable to render, please try loading this page with nbviewer.org.</b></div><div class=\"sk-container\" hidden><div class=\"sk-item\"><div class=\"sk-estimator sk-toggleable\"><input class=\"sk-toggleable__control sk-hidden--visually\" id=\"sk-estimator-id-3\" type=\"checkbox\" checked><label for=\"sk-estimator-id-3\" class=\"sk-toggleable__label sk-toggleable__label-arrow\">DecisionTreeClassifier</label><div class=\"sk-toggleable__content\"><pre>DecisionTreeClassifier(max_depth=11, min_samples_split=3)</pre></div></div></div></div></div>"
      ],
      "text/plain": [
       "DecisionTreeClassifier(max_depth=11, min_samples_split=3)"
      ]
     },
     "execution_count": 56,
     "metadata": {},
     "output_type": "execute_result"
    }
   ],
   "source": [
    "\n",
    "DT = DecisionTreeClassifier(max_depth=11,min_samples_split=3,min_samples_leaf=1)\n",
    "DT.fit(x_train,y_train) #Training a Decision Tree Classifier with a maximum depth of 11, a minimum of 3 samples required to split a node, and at least 1 sample required in each leaf node"
   ]
  },
  {
   "cell_type": "code",
   "execution_count": 57,
   "id": "e082ece5",
   "metadata": {
    "execution": {
     "iopub.execute_input": "2024-11-21T16:49:28.794501Z",
     "iopub.status.busy": "2024-11-21T16:49:28.794013Z",
     "iopub.status.idle": "2024-11-21T16:49:28.807086Z",
     "shell.execute_reply": "2024-11-21T16:49:28.805841Z"
    },
    "papermill": {
     "duration": 0.049882,
     "end_time": "2024-11-21T16:49:28.809241",
     "exception": false,
     "start_time": "2024-11-21T16:49:28.759359",
     "status": "completed"
    },
    "tags": []
   },
   "outputs": [
    {
     "data": {
      "text/plain": [
       "array([0, 0, 0, ..., 0, 0, 0])"
      ]
     },
     "execution_count": 57,
     "metadata": {},
     "output_type": "execute_result"
    }
   ],
   "source": [
    "DT.predict(test_data)"
   ]
  },
  {
   "cell_type": "code",
   "execution_count": 58,
   "id": "7034c161",
   "metadata": {
    "execution": {
     "iopub.execute_input": "2024-11-21T16:49:28.875139Z",
     "iopub.status.busy": "2024-11-21T16:49:28.874269Z",
     "iopub.status.idle": "2024-11-21T16:49:28.896834Z",
     "shell.execute_reply": "2024-11-21T16:49:28.895626Z"
    },
    "papermill": {
     "duration": 0.058123,
     "end_time": "2024-11-21T16:49:28.899495",
     "exception": false,
     "start_time": "2024-11-21T16:49:28.841372",
     "status": "completed"
    },
    "tags": []
   },
   "outputs": [],
   "source": [
    "dataframe = DataFrame({\"id\":range(len(DT.predict(test_data))),\"target\":DT.predict(test_data)})\n",
    "dataframe.to_csv(\"Final_submission.csv\",index=False)"
   ]
  },
  {
   "cell_type": "code",
   "execution_count": 59,
   "id": "dbebb18c",
   "metadata": {
    "execution": {
     "iopub.execute_input": "2024-11-21T16:49:28.964403Z",
     "iopub.status.busy": "2024-11-21T16:49:28.963949Z",
     "iopub.status.idle": "2024-11-21T16:49:29.208640Z",
     "shell.execute_reply": "2024-11-21T16:49:29.207347Z"
    },
    "papermill": {
     "duration": 0.280053,
     "end_time": "2024-11-21T16:49:29.211102",
     "exception": false,
     "start_time": "2024-11-21T16:49:28.931049",
     "status": "completed"
    },
    "tags": []
   },
   "outputs": [],
   "source": [
    "DT = DecisionTreeClassifier(max_depth=11,min_samples_split=3,min_samples_leaf=1)\n",
    "DT.fit(x_train,y_train)\n",
    "y_pred = DT.predict(x_train)\n",
    "classification_report_DT = classification_report(y_train,y_pred)"
   ]
  },
  {
   "cell_type": "code",
   "execution_count": 60,
   "id": "791a7003",
   "metadata": {
    "execution": {
     "iopub.execute_input": "2024-11-21T16:49:29.283258Z",
     "iopub.status.busy": "2024-11-21T16:49:29.282859Z",
     "iopub.status.idle": "2024-11-21T16:49:29.288786Z",
     "shell.execute_reply": "2024-11-21T16:49:29.287540Z"
    },
    "papermill": {
     "duration": 0.047096,
     "end_time": "2024-11-21T16:49:29.291174",
     "exception": false,
     "start_time": "2024-11-21T16:49:29.244078",
     "status": "completed"
    },
    "tags": []
   },
   "outputs": [
    {
     "name": "stdout",
     "output_type": "stream",
     "text": [
      "Classification Report:\n",
      "              precision    recall  f1-score   support\n",
      "\n",
      "           0       0.92      0.97      0.95     26739\n",
      "           1       0.77      0.54      0.64      4629\n",
      "\n",
      "    accuracy                           0.91     31368\n",
      "   macro avg       0.85      0.76      0.79     31368\n",
      "weighted avg       0.90      0.91      0.90     31368\n",
      "\n"
     ]
    }
   ],
   "source": [
    "print(f\"Classification Report:\\n{classification_report_DT}\")"
   ]
  },
  {
   "cell_type": "markdown",
   "id": "a5282f77",
   "metadata": {
    "papermill": {
     "duration": 0.031059,
     "end_time": "2024-11-21T16:49:29.353823",
     "exception": false,
     "start_time": "2024-11-21T16:49:29.322764",
     "status": "completed"
    },
    "tags": []
   },
   "source": [
    "# MODEL 2 : RANDOM FOREST"
   ]
  },
  {
   "cell_type": "code",
   "execution_count": 61,
   "id": "02d75d24",
   "metadata": {
    "execution": {
     "iopub.execute_input": "2024-11-21T16:49:29.418247Z",
     "iopub.status.busy": "2024-11-21T16:49:29.417856Z",
     "iopub.status.idle": "2024-11-21T16:49:29.424440Z",
     "shell.execute_reply": "2024-11-21T16:49:29.423191Z"
    },
    "papermill": {
     "duration": 0.04157,
     "end_time": "2024-11-21T16:49:29.426638",
     "exception": false,
     "start_time": "2024-11-21T16:49:29.385068",
     "status": "completed"
    },
    "tags": []
   },
   "outputs": [],
   "source": [
    "#Importing required libraries\n",
    "import pandas as pd\n",
    "import numpy as np\n",
    "from sklearn.model_selection import train_test_split\n",
    "from sklearn.preprocessing import StandardScaler, LabelEncoder\n",
    "from sklearn.impute import SimpleImputer\n",
    "from imblearn.over_sampling import SMOTE\n",
    "from sklearn.metrics import f1_score, accuracy_score, confusion_matrix, classification_report\n",
    "from sklearn.ensemble import RandomForestClassifier"
   ]
  },
  {
   "cell_type": "code",
   "execution_count": 62,
   "id": "ba5ea4cf",
   "metadata": {
    "execution": {
     "iopub.execute_input": "2024-11-21T16:49:29.491978Z",
     "iopub.status.busy": "2024-11-21T16:49:29.491557Z",
     "iopub.status.idle": "2024-11-21T16:49:29.595032Z",
     "shell.execute_reply": "2024-11-21T16:49:29.593834Z"
    },
    "papermill": {
     "duration": 0.13938,
     "end_time": "2024-11-21T16:49:29.598239",
     "exception": false,
     "start_time": "2024-11-21T16:49:29.458859",
     "status": "completed"
    },
    "tags": []
   },
   "outputs": [],
   "source": [
    "train_data = pd.read_csv('/kaggle/input/predict-the-success-of-bank-telemarketing/train.csv')\n",
    "test_data = pd.read_csv('/kaggle/input/predict-the-success-of-bank-telemarketing/test.csv')"
   ]
  },
  {
   "cell_type": "code",
   "execution_count": 63,
   "id": "f3cbfeaa",
   "metadata": {
    "execution": {
     "iopub.execute_input": "2024-11-21T16:49:29.667728Z",
     "iopub.status.busy": "2024-11-21T16:49:29.667343Z",
     "iopub.status.idle": "2024-11-21T16:49:29.808520Z",
     "shell.execute_reply": "2024-11-21T16:49:29.807104Z"
    },
    "papermill": {
     "duration": 0.179652,
     "end_time": "2024-11-21T16:49:29.811319",
     "exception": false,
     "start_time": "2024-11-21T16:49:29.631667",
     "status": "completed"
    },
    "tags": []
   },
   "outputs": [
    {
     "name": "stderr",
     "output_type": "stream",
     "text": [
      "/tmp/ipykernel_17/4158925893.py:23: FutureWarning: A value is trying to be set on a copy of a DataFrame or Series through chained assignment using an inplace method.\n",
      "The behavior will change in pandas 3.0. This inplace method will never work because the intermediate object on which we are setting values always behaves as a copy.\n",
      "\n",
      "For example, when doing 'df[col].method(value, inplace=True)', try using 'df.method({col: value}, inplace=True)' or df[col] = df[col].method(value) instead, to perform the operation inplace on the original object.\n",
      "\n",
      "\n",
      "  train_data[col].fillna(train_data[col].mode()[0], inplace=True)\n",
      "/tmp/ipykernel_17/4158925893.py:24: FutureWarning: A value is trying to be set on a copy of a DataFrame or Series through chained assignment using an inplace method.\n",
      "The behavior will change in pandas 3.0. This inplace method will never work because the intermediate object on which we are setting values always behaves as a copy.\n",
      "\n",
      "For example, when doing 'df[col].method(value, inplace=True)', try using 'df.method({col: value}, inplace=True)' or df[col] = df[col].method(value) instead, to perform the operation inplace on the original object.\n",
      "\n",
      "\n",
      "  test_data[col].fillna(test_data[col].mode()[0], inplace=True)\n"
     ]
    }
   ],
   "source": [
    "# Converting 'last contact date' to datetime and create new features\n",
    "train_data['last contact date'] = pd.to_datetime(train_data['last contact date'], errors='coerce')\n",
    "test_data['last contact date'] = pd.to_datetime(test_data['last contact date'], errors='coerce')\n",
    "\n",
    "train_data['contact_month'] = train_data['last contact date'].dt.month\n",
    "train_data['contact_day'] = train_data['last contact date'].dt.dayofweek\n",
    "test_data['contact_month'] = test_data['last contact date'].dt.month\n",
    "test_data['contact_day'] = test_data['last contact date'].dt.dayofweek\n",
    "\n",
    "# Dropping unnecessary columns\n",
    "train_data.drop(columns=['last contact date'], inplace=True)\n",
    "test_data.drop(columns=['last contact date'], inplace=True)\n",
    "\n",
    "# Handling missing values for numeric columns\n",
    "numeric_cols = ['age', 'balance', 'duration', 'campaign', 'pdays', 'previous']\n",
    "imputer = SimpleImputer(strategy='mean')\n",
    "train_data[numeric_cols] = imputer.fit_transform(train_data[numeric_cols])\n",
    "test_data[numeric_cols] = imputer.transform(test_data[numeric_cols])\n",
    "\n",
    "# Handling missing values for categorical columns\n",
    "categorical_cols = ['job', 'marital', 'education', 'default', 'housing', 'loan', 'contact', 'poutcome']\n",
    "for col in categorical_cols:\n",
    "    train_data[col].fillna(train_data[col].mode()[0], inplace=True)\n",
    "    test_data[col].fillna(test_data[col].mode()[0], inplace=True)\n",
    "\n",
    "# Encoding categorical variables using one-hot encoding\n",
    "train_data_encoded = pd.get_dummies(train_data, columns=categorical_cols)\n",
    "test_data_encoded = pd.get_dummies(test_data, columns=categorical_cols)\n",
    "\n",
    "# Aligning train and test data to have the same columns\n",
    "train_data_encoded, test_data_encoded = train_data_encoded.align(test_data_encoded, join='left', axis=1, fill_value=0)"
   ]
  },
  {
   "cell_type": "code",
   "execution_count": 64,
   "id": "f9e026b9",
   "metadata": {
    "execution": {
     "iopub.execute_input": "2024-11-21T16:49:29.879382Z",
     "iopub.status.busy": "2024-11-21T16:49:29.878914Z",
     "iopub.status.idle": "2024-11-21T16:49:29.905632Z",
     "shell.execute_reply": "2024-11-21T16:49:29.904488Z"
    },
    "papermill": {
     "duration": 0.063612,
     "end_time": "2024-11-21T16:49:29.908228",
     "exception": false,
     "start_time": "2024-11-21T16:49:29.844616",
     "status": "completed"
    },
    "tags": []
   },
   "outputs": [],
   "source": [
    "# Feature scaling for numeric columns\n",
    "scaler = StandardScaler()\n",
    "train_data_encoded[numeric_cols] = scaler.fit_transform(train_data_encoded[numeric_cols])\n",
    "test_data_encoded[numeric_cols] = scaler.transform(test_data_encoded[numeric_cols])\n",
    "\n",
    "# Encoding the target variable\n",
    "label_encoder = LabelEncoder()\n",
    "train_data_encoded['target'] = label_encoder.fit_transform(train_data['target'])\n",
    "\n",
    "# Separating features and target\n",
    "X = train_data_encoded.drop(columns=[\"target\"])\n",
    "y = train_data_encoded[\"target\"]"
   ]
  },
  {
   "cell_type": "code",
   "execution_count": 65,
   "id": "60fab0e2",
   "metadata": {
    "execution": {
     "iopub.execute_input": "2024-11-21T16:49:29.973103Z",
     "iopub.status.busy": "2024-11-21T16:49:29.972716Z",
     "iopub.status.idle": "2024-11-21T16:49:39.695501Z",
     "shell.execute_reply": "2024-11-21T16:49:39.694343Z"
    },
    "papermill": {
     "duration": 9.757631,
     "end_time": "2024-11-21T16:49:39.697942",
     "exception": false,
     "start_time": "2024-11-21T16:49:29.940311",
     "status": "completed"
    },
    "tags": []
   },
   "outputs": [
    {
     "name": "stdout",
     "output_type": "stream",
     "text": [
      "F1 Score: 0.7443721191138546\n",
      "Accuracy: 0.8559224786433762\n",
      "Confusion Matrix:\n",
      "[[5947  698]\n",
      " [ 432  766]]\n",
      "Classification Report:\n",
      "              precision    recall  f1-score   support\n",
      "\n",
      "           0       0.93      0.89      0.91      6645\n",
      "           1       0.52      0.64      0.58      1198\n",
      "\n",
      "    accuracy                           0.86      7843\n",
      "   macro avg       0.73      0.77      0.74      7843\n",
      "weighted avg       0.87      0.86      0.86      7843\n",
      "\n"
     ]
    }
   ],
   "source": [
    "# Train-test split\n",
    "X_train, X_test, y_train, y_test = train_test_split(X, y, test_size=0.2, random_state=42)\n",
    "\n",
    "# Applying SMOTE to balance the classes\n",
    "smote = SMOTE(random_state=42)\n",
    "X_train_smote, y_train_smote = smote.fit_resample(X_train, y_train)\n",
    "\n",
    "# Training a Random Forest model\n",
    "model = RandomForestClassifier(random_state=42)\n",
    "model.fit(X_train_smote, y_train_smote)\n",
    "\n",
    "# Evaluating the model\n",
    "y_pred = model.predict(X_test)\n",
    "f1 = f1_score(y_test, y_pred, average='macro')\n",
    "acc = accuracy_score(y_test, y_pred)\n",
    "cm = confusion_matrix(y_test, y_pred)\n",
    "classification_report_RF = classification_report(y_test, y_pred)\n",
    "\n",
    "# Printing results\n",
    "print(f\"F1 Score: {f1}\")\n",
    "print(f\"Accuracy: {acc}\")\n",
    "print(f\"Confusion Matrix:\\n{cm}\")\n",
    "print(f\"Classification Report:\\n{classification_report_RF}\")"
   ]
  },
  {
   "cell_type": "code",
   "execution_count": 66,
   "id": "e419cea2",
   "metadata": {
    "execution": {
     "iopub.execute_input": "2024-11-21T16:49:39.765887Z",
     "iopub.status.busy": "2024-11-21T16:49:39.765412Z",
     "iopub.status.idle": "2024-11-21T16:49:39.773141Z",
     "shell.execute_reply": "2024-11-21T16:49:39.772181Z"
    },
    "papermill": {
     "duration": 0.044684,
     "end_time": "2024-11-21T16:49:39.775303",
     "exception": false,
     "start_time": "2024-11-21T16:49:39.730619",
     "status": "completed"
    },
    "tags": []
   },
   "outputs": [],
   "source": [
    "test_data_encoded.drop(columns=[\"target\"],inplace=True)"
   ]
  },
  {
   "cell_type": "code",
   "execution_count": 67,
   "id": "a602dd72",
   "metadata": {
    "execution": {
     "iopub.execute_input": "2024-11-21T16:49:39.843337Z",
     "iopub.status.busy": "2024-11-21T16:49:39.842859Z",
     "iopub.status.idle": "2024-11-21T16:49:49.236862Z",
     "shell.execute_reply": "2024-11-21T16:49:49.235227Z"
    },
    "papermill": {
     "duration": 9.431706,
     "end_time": "2024-11-21T16:49:49.239711",
     "exception": false,
     "start_time": "2024-11-21T16:49:39.808005",
     "status": "completed"
    },
    "tags": []
   },
   "outputs": [],
   "source": [
    "model = RandomForestClassifier(random_state=42)\n",
    "model.fit(X_train_smote, y_train_smote)\n",
    "\n",
    "# Evaluate the model\n",
    "y_pred = model.predict(test_data_encoded)"
   ]
  },
  {
   "cell_type": "code",
   "execution_count": 68,
   "id": "0b2c90b2",
   "metadata": {
    "execution": {
     "iopub.execute_input": "2024-11-21T16:49:49.308710Z",
     "iopub.status.busy": "2024-11-21T16:49:49.308307Z",
     "iopub.status.idle": "2024-11-21T16:49:49.326424Z",
     "shell.execute_reply": "2024-11-21T16:49:49.325239Z"
    },
    "papermill": {
     "duration": 0.054436,
     "end_time": "2024-11-21T16:49:49.328616",
     "exception": false,
     "start_time": "2024-11-21T16:49:49.274180",
     "status": "completed"
    },
    "tags": []
   },
   "outputs": [],
   "source": [
    "def change(value):\n",
    "    if value==1:\n",
    "        return \"yes\"\n",
    "    else:\n",
    "        return \"no\"\n",
    "\n",
    "data_RF = pd.DataFrame({\"id\":range(len(y_pred)),\"target\":y_pred})\n",
    "data_RF[\"target\"] = data_RF[\"target\"].apply(change)\n",
    "data_RF.to_csv(\"Final_submission_RF.csv\",index=False)"
   ]
  },
  {
   "cell_type": "code",
   "execution_count": 69,
   "id": "ed215f63",
   "metadata": {
    "execution": {
     "iopub.execute_input": "2024-11-21T16:49:49.396187Z",
     "iopub.status.busy": "2024-11-21T16:49:49.395777Z",
     "iopub.status.idle": "2024-11-21T16:49:49.401082Z",
     "shell.execute_reply": "2024-11-21T16:49:49.399987Z"
    },
    "papermill": {
     "duration": 0.041526,
     "end_time": "2024-11-21T16:49:49.403231",
     "exception": false,
     "start_time": "2024-11-21T16:49:49.361705",
     "status": "completed"
    },
    "tags": []
   },
   "outputs": [],
   "source": [
    "from sklearn.linear_model import LogisticRegression"
   ]
  },
  {
   "cell_type": "markdown",
   "id": "59b2cb2f",
   "metadata": {
    "papermill": {
     "duration": 0.032342,
     "end_time": "2024-11-21T16:49:49.468155",
     "exception": false,
     "start_time": "2024-11-21T16:49:49.435813",
     "status": "completed"
    },
    "tags": []
   },
   "source": [
    "# MODEL 3 : LOGISTIC REGRESSION"
   ]
  },
  {
   "cell_type": "code",
   "execution_count": 70,
   "id": "3a9b8565",
   "metadata": {
    "execution": {
     "iopub.execute_input": "2024-11-21T16:49:49.536487Z",
     "iopub.status.busy": "2024-11-21T16:49:49.536008Z",
     "iopub.status.idle": "2024-11-21T16:49:49.541909Z",
     "shell.execute_reply": "2024-11-21T16:49:49.540486Z"
    },
    "papermill": {
     "duration": 0.043043,
     "end_time": "2024-11-21T16:49:49.544028",
     "exception": false,
     "start_time": "2024-11-21T16:49:49.500985",
     "status": "completed"
    },
    "tags": []
   },
   "outputs": [],
   "source": [
    "logistic_model = LogisticRegression(max_iter=1000, random_state=42)"
   ]
  },
  {
   "cell_type": "code",
   "execution_count": 71,
   "id": "90c9f49d",
   "metadata": {
    "execution": {
     "iopub.execute_input": "2024-11-21T16:49:49.612034Z",
     "iopub.status.busy": "2024-11-21T16:49:49.610850Z",
     "iopub.status.idle": "2024-11-21T16:49:50.063397Z",
     "shell.execute_reply": "2024-11-21T16:49:50.060655Z"
    },
    "papermill": {
     "duration": 0.491152,
     "end_time": "2024-11-21T16:49:50.067713",
     "exception": false,
     "start_time": "2024-11-21T16:49:49.576561",
     "status": "completed"
    },
    "tags": []
   },
   "outputs": [
    {
     "data": {
      "text/html": [
       "<style>#sk-container-id-4 {color: black;background-color: white;}#sk-container-id-4 pre{padding: 0;}#sk-container-id-4 div.sk-toggleable {background-color: white;}#sk-container-id-4 label.sk-toggleable__label {cursor: pointer;display: block;width: 100%;margin-bottom: 0;padding: 0.3em;box-sizing: border-box;text-align: center;}#sk-container-id-4 label.sk-toggleable__label-arrow:before {content: \"▸\";float: left;margin-right: 0.25em;color: #696969;}#sk-container-id-4 label.sk-toggleable__label-arrow:hover:before {color: black;}#sk-container-id-4 div.sk-estimator:hover label.sk-toggleable__label-arrow:before {color: black;}#sk-container-id-4 div.sk-toggleable__content {max-height: 0;max-width: 0;overflow: hidden;text-align: left;background-color: #f0f8ff;}#sk-container-id-4 div.sk-toggleable__content pre {margin: 0.2em;color: black;border-radius: 0.25em;background-color: #f0f8ff;}#sk-container-id-4 input.sk-toggleable__control:checked~div.sk-toggleable__content {max-height: 200px;max-width: 100%;overflow: auto;}#sk-container-id-4 input.sk-toggleable__control:checked~label.sk-toggleable__label-arrow:before {content: \"▾\";}#sk-container-id-4 div.sk-estimator input.sk-toggleable__control:checked~label.sk-toggleable__label {background-color: #d4ebff;}#sk-container-id-4 div.sk-label input.sk-toggleable__control:checked~label.sk-toggleable__label {background-color: #d4ebff;}#sk-container-id-4 input.sk-hidden--visually {border: 0;clip: rect(1px 1px 1px 1px);clip: rect(1px, 1px, 1px, 1px);height: 1px;margin: -1px;overflow: hidden;padding: 0;position: absolute;width: 1px;}#sk-container-id-4 div.sk-estimator {font-family: monospace;background-color: #f0f8ff;border: 1px dotted black;border-radius: 0.25em;box-sizing: border-box;margin-bottom: 0.5em;}#sk-container-id-4 div.sk-estimator:hover {background-color: #d4ebff;}#sk-container-id-4 div.sk-parallel-item::after {content: \"\";width: 100%;border-bottom: 1px solid gray;flex-grow: 1;}#sk-container-id-4 div.sk-label:hover label.sk-toggleable__label {background-color: #d4ebff;}#sk-container-id-4 div.sk-serial::before {content: \"\";position: absolute;border-left: 1px solid gray;box-sizing: border-box;top: 0;bottom: 0;left: 50%;z-index: 0;}#sk-container-id-4 div.sk-serial {display: flex;flex-direction: column;align-items: center;background-color: white;padding-right: 0.2em;padding-left: 0.2em;position: relative;}#sk-container-id-4 div.sk-item {position: relative;z-index: 1;}#sk-container-id-4 div.sk-parallel {display: flex;align-items: stretch;justify-content: center;background-color: white;position: relative;}#sk-container-id-4 div.sk-item::before, #sk-container-id-4 div.sk-parallel-item::before {content: \"\";position: absolute;border-left: 1px solid gray;box-sizing: border-box;top: 0;bottom: 0;left: 50%;z-index: -1;}#sk-container-id-4 div.sk-parallel-item {display: flex;flex-direction: column;z-index: 1;position: relative;background-color: white;}#sk-container-id-4 div.sk-parallel-item:first-child::after {align-self: flex-end;width: 50%;}#sk-container-id-4 div.sk-parallel-item:last-child::after {align-self: flex-start;width: 50%;}#sk-container-id-4 div.sk-parallel-item:only-child::after {width: 0;}#sk-container-id-4 div.sk-dashed-wrapped {border: 1px dashed gray;margin: 0 0.4em 0.5em 0.4em;box-sizing: border-box;padding-bottom: 0.4em;background-color: white;}#sk-container-id-4 div.sk-label label {font-family: monospace;font-weight: bold;display: inline-block;line-height: 1.2em;}#sk-container-id-4 div.sk-label-container {text-align: center;}#sk-container-id-4 div.sk-container {/* jupyter's `normalize.less` sets `[hidden] { display: none; }` but bootstrap.min.css set `[hidden] { display: none !important; }` so we also need the `!important` here to be able to override the default hidden behavior on the sphinx rendered scikit-learn.org. See: https://github.com/scikit-learn/scikit-learn/issues/21755 */display: inline-block !important;position: relative;}#sk-container-id-4 div.sk-text-repr-fallback {display: none;}</style><div id=\"sk-container-id-4\" class=\"sk-top-container\"><div class=\"sk-text-repr-fallback\"><pre>LogisticRegression(max_iter=1000, random_state=42)</pre><b>In a Jupyter environment, please rerun this cell to show the HTML representation or trust the notebook. <br />On GitHub, the HTML representation is unable to render, please try loading this page with nbviewer.org.</b></div><div class=\"sk-container\" hidden><div class=\"sk-item\"><div class=\"sk-estimator sk-toggleable\"><input class=\"sk-toggleable__control sk-hidden--visually\" id=\"sk-estimator-id-4\" type=\"checkbox\" checked><label for=\"sk-estimator-id-4\" class=\"sk-toggleable__label sk-toggleable__label-arrow\">LogisticRegression</label><div class=\"sk-toggleable__content\"><pre>LogisticRegression(max_iter=1000, random_state=42)</pre></div></div></div></div></div>"
      ],
      "text/plain": [
       "LogisticRegression(max_iter=1000, random_state=42)"
      ]
     },
     "execution_count": 71,
     "metadata": {},
     "output_type": "execute_result"
    }
   ],
   "source": [
    "logistic_model.fit(X_train, y_train)"
   ]
  },
  {
   "cell_type": "code",
   "execution_count": 72,
   "id": "a1eea20e",
   "metadata": {
    "execution": {
     "iopub.execute_input": "2024-11-21T16:49:50.202000Z",
     "iopub.status.busy": "2024-11-21T16:49:50.201627Z",
     "iopub.status.idle": "2024-11-21T16:49:50.270987Z",
     "shell.execute_reply": "2024-11-21T16:49:50.268632Z"
    },
    "papermill": {
     "duration": 0.120803,
     "end_time": "2024-11-21T16:49:50.276613",
     "exception": false,
     "start_time": "2024-11-21T16:49:50.155810",
     "status": "completed"
    },
    "tags": []
   },
   "outputs": [
    {
     "name": "stdout",
     "output_type": "stream",
     "text": [
      "F1 Score: 0.6217721574452496\n",
      "Accuracy: 0.8563049853372434\n",
      "Confusion Matrix:\n",
      "[[6446  199]\n",
      " [ 928  270]]\n",
      "Classification Report:\n",
      "              precision    recall  f1-score   support\n",
      "\n",
      "           0       0.87      0.97      0.92      6645\n",
      "           1       0.58      0.23      0.32      1198\n",
      "\n",
      "    accuracy                           0.86      7843\n",
      "   macro avg       0.72      0.60      0.62      7843\n",
      "weighted avg       0.83      0.86      0.83      7843\n",
      "\n"
     ]
    }
   ],
   "source": [
    "y_pred = logistic_model.predict(X_test)\n",
    "f1 = f1_score(y_test, y_pred, average='macro')\n",
    "accuracy = accuracy_score(y_test, y_pred)\n",
    "cm = confusion_matrix(y_test, y_pred)\n",
    "classification_report_LR = classification_report(y_test, y_pred)\n",
    "\n",
    "# Display results\n",
    "print(f\"F1 Score: {f1}\")\n",
    "print(f\"Accuracy: {accuracy}\")\n",
    "print(f\"Confusion Matrix:\\n{cm}\")\n",
    "print(f\"Classification Report:\\n{classification_report_LR}\")"
   ]
  },
  {
   "cell_type": "markdown",
   "id": "b9036cb0",
   "metadata": {
    "papermill": {
     "duration": 0.032622,
     "end_time": "2024-11-21T16:49:50.377954",
     "exception": false,
     "start_time": "2024-11-21T16:49:50.345332",
     "status": "completed"
    },
    "tags": []
   },
   "source": [
    "# MODEL 4 : XGBOOST "
   ]
  },
  {
   "cell_type": "code",
   "execution_count": 73,
   "id": "98467ceb",
   "metadata": {
    "execution": {
     "iopub.execute_input": "2024-11-21T16:49:50.446755Z",
     "iopub.status.busy": "2024-11-21T16:49:50.446220Z",
     "iopub.status.idle": "2024-11-21T16:49:50.649662Z",
     "shell.execute_reply": "2024-11-21T16:49:50.648362Z"
    },
    "papermill": {
     "duration": 0.241324,
     "end_time": "2024-11-21T16:49:50.652577",
     "exception": false,
     "start_time": "2024-11-21T16:49:50.411253",
     "status": "completed"
    },
    "tags": []
   },
   "outputs": [],
   "source": [
    "import xgboost as xgb\n",
    "from sklearn.metrics import classification_report, f1_score\n",
    "from sklearn.model_selection import train_test_split"
   ]
  },
  {
   "cell_type": "code",
   "execution_count": 74,
   "id": "346a31ef",
   "metadata": {
    "execution": {
     "iopub.execute_input": "2024-11-21T16:49:50.721091Z",
     "iopub.status.busy": "2024-11-21T16:49:50.720090Z",
     "iopub.status.idle": "2024-11-21T16:49:50.726159Z",
     "shell.execute_reply": "2024-11-21T16:49:50.724884Z"
    },
    "papermill": {
     "duration": 0.042621,
     "end_time": "2024-11-21T16:49:50.728407",
     "exception": false,
     "start_time": "2024-11-21T16:49:50.685786",
     "status": "completed"
    },
    "tags": []
   },
   "outputs": [],
   "source": [
    "xgb_model = xgb.XGBClassifier(\n",
    "    n_estimators=100,  # Number of trees\n",
    "    learning_rate=0.1, # Step size shrinkage\n",
    "    max_depth=6,       # Maximum depth of trees\n",
    "    subsample=0.8,     # Fraction of samples used for training each tree\n",
    "    colsample_bytree=0.8,  # Fraction of features used per tree\n",
    "    random_state=42,   # For reproducibility\n",
    "    use_label_encoder=False  # To avoid encoding warnings\n",
    ")"
   ]
  },
  {
   "cell_type": "code",
   "execution_count": 75,
   "id": "e97b643a",
   "metadata": {
    "execution": {
     "iopub.execute_input": "2024-11-21T16:49:50.797249Z",
     "iopub.status.busy": "2024-11-21T16:49:50.796810Z",
     "iopub.status.idle": "2024-11-21T16:49:51.388218Z",
     "shell.execute_reply": "2024-11-21T16:49:51.386644Z"
    },
    "papermill": {
     "duration": 0.628826,
     "end_time": "2024-11-21T16:49:51.390867",
     "exception": false,
     "start_time": "2024-11-21T16:49:50.762041",
     "status": "completed"
    },
    "tags": []
   },
   "outputs": [
    {
     "name": "stderr",
     "output_type": "stream",
     "text": [
      "/opt/conda/lib/python3.10/site-packages/xgboost/sklearn.py:889: UserWarning: `eval_metric` in `fit` method is deprecated for better compatibility with scikit-learn, use `eval_metric` in constructor or`set_params` instead.\n",
      "  warnings.warn(\n"
     ]
    },
    {
     "name": "stdout",
     "output_type": "stream",
     "text": [
      "Classification Report:\n",
      "              precision    recall  f1-score   support\n",
      "\n",
      "           0       0.90      0.95      0.92      6645\n",
      "           1       0.58      0.41      0.48      1198\n",
      "\n",
      "    accuracy                           0.86      7843\n",
      "   macro avg       0.74      0.68      0.70      7843\n",
      "weighted avg       0.85      0.86      0.85      7843\n",
      "\n"
     ]
    }
   ],
   "source": [
    "# Training the model\n",
    "xgb_model.fit(x_train, y_train, eval_metric=\"logloss\")\n",
    "\n",
    "# Making predictions\n",
    "y_pred = xgb_model.predict(x_test)\n",
    "\n",
    "# Evaluating the model\n",
    "print(\"Classification Report:\")\n",
    "print(classification_report(y_test, y_pred))\n",
    "\n",
    "# Computing the macro F1 score\n",
    "macro_f1 = f1_score(y_test, y_pred, average='macro')"
   ]
  },
  {
   "cell_type": "code",
   "execution_count": 76,
   "id": "0d9cf282",
   "metadata": {
    "execution": {
     "iopub.execute_input": "2024-11-21T16:49:51.456957Z",
     "iopub.status.busy": "2024-11-21T16:49:51.456512Z",
     "iopub.status.idle": "2024-11-21T16:49:51.473824Z",
     "shell.execute_reply": "2024-11-21T16:49:51.472487Z"
    },
    "papermill": {
     "duration": 0.053192,
     "end_time": "2024-11-21T16:49:51.476408",
     "exception": false,
     "start_time": "2024-11-21T16:49:51.423216",
     "status": "completed"
    },
    "tags": []
   },
   "outputs": [
    {
     "name": "stdout",
     "output_type": "stream",
     "text": [
      "XGBoost submission file saved: 'submission_xgboost.csv'\n"
     ]
    }
   ],
   "source": [
    "# Convert predictions to \"yes\" and \"no\"\n",
    "y_pred_xgb = [\"yes\" if pred == 1 else \"no\" for pred in y_pred]\n",
    "\n",
    "# Create submission file\n",
    "submission_xgb = pd.DataFrame({\n",
    "    \"id\": range(len(y_test)),  # ID starts from 0\n",
    "    \"target\": y_test          # Predicted values\n",
    "})\n",
    "\n",
    "# Save submission file\n",
    "submission_xgb.to_csv(\"submission_xgboost.csv\", index=False)\n",
    "print(\"XGBoost submission file saved: 'submission_xgboost.csv'\")"
   ]
  },
  {
   "cell_type": "markdown",
   "id": "f654ff77",
   "metadata": {
    "papermill": {
     "duration": 0.033405,
     "end_time": "2024-11-21T16:49:51.545201",
     "exception": false,
     "start_time": "2024-11-21T16:49:51.511796",
     "status": "completed"
    },
    "tags": []
   },
   "source": [
    "# COMPARISON OF CLASSIDFCATION REPORTS OF ALL MODELS"
   ]
  },
  {
   "cell_type": "code",
   "execution_count": 77,
   "id": "1dcea214",
   "metadata": {
    "execution": {
     "iopub.execute_input": "2024-11-21T16:49:51.613608Z",
     "iopub.status.busy": "2024-11-21T16:49:51.613145Z",
     "iopub.status.idle": "2024-11-21T16:49:51.637819Z",
     "shell.execute_reply": "2024-11-21T16:49:51.636555Z"
    },
    "papermill": {
     "duration": 0.062239,
     "end_time": "2024-11-21T16:49:51.640751",
     "exception": false,
     "start_time": "2024-11-21T16:49:51.578512",
     "status": "completed"
    },
    "tags": []
   },
   "outputs": [
    {
     "name": "stdout",
     "output_type": "stream",
     "text": [
      "Classification Report Logistic Regression:\n",
      "              precision    recall  f1-score   support\n",
      "\n",
      "           0       0.87      0.97      0.92      6645\n",
      "           1       0.58      0.23      0.32      1198\n",
      "\n",
      "    accuracy                           0.86      7843\n",
      "   macro avg       0.72      0.60      0.62      7843\n",
      "weighted avg       0.83      0.86      0.83      7843\n",
      "\n",
      "Classification Report XGBoost:\n",
      "              precision    recall  f1-score   support\n",
      "\n",
      "           0       0.90      0.95      0.92      6645\n",
      "           1       0.58      0.41      0.48      1198\n",
      "\n",
      "    accuracy                           0.86      7843\n",
      "   macro avg       0.74      0.68      0.70      7843\n",
      "weighted avg       0.85      0.86      0.85      7843\n",
      "\n",
      "Classification Report Random Forest:\n",
      "              precision    recall  f1-score   support\n",
      "\n",
      "           0       0.93      0.89      0.91      6645\n",
      "           1       0.52      0.64      0.58      1198\n",
      "\n",
      "    accuracy                           0.86      7843\n",
      "   macro avg       0.73      0.77      0.74      7843\n",
      "weighted avg       0.87      0.86      0.86      7843\n",
      "\n",
      "Classification Report Decision Tree:\n",
      "              precision    recall  f1-score   support\n",
      "\n",
      "           0       0.92      0.97      0.95     26739\n",
      "           1       0.77      0.54      0.64      4629\n",
      "\n",
      "    accuracy                           0.91     31368\n",
      "   macro avg       0.85      0.76      0.79     31368\n",
      "weighted avg       0.90      0.91      0.90     31368\n",
      "\n"
     ]
    }
   ],
   "source": [
    "print(f\"Classification Report Logistic Regression:\\n{classification_report_LR}\")\n",
    "print(f\"Classification Report XGBoost:\\n{classification_report(y_test, y_pred)}\")\n",
    "print(f\"Classification Report Random Forest:\\n{classification_report_RF}\")\n",
    "print(f\"Classification Report Decision Tree:\\n{classification_report_DT}\")"
   ]
  },
  {
   "cell_type": "code",
   "execution_count": 78,
   "id": "ca91484d",
   "metadata": {
    "execution": {
     "iopub.execute_input": "2024-11-21T16:49:51.708949Z",
     "iopub.status.busy": "2024-11-21T16:49:51.708528Z",
     "iopub.status.idle": "2024-11-21T16:49:52.042203Z",
     "shell.execute_reply": "2024-11-21T16:49:52.040898Z"
    },
    "papermill": {
     "duration": 0.371219,
     "end_time": "2024-11-21T16:49:52.044901",
     "exception": false,
     "start_time": "2024-11-21T16:49:51.673682",
     "status": "completed"
    },
    "tags": []
   },
   "outputs": [
    {
     "data": {
      "image/png": "[encoded data removed]",
      "text/plain": [
       "<Figure size 1000x600 with 1 Axes>"
      ]
     },
     "metadata": {},
     "output_type": "display_data"
    }
   ],
   "source": [
    "#Model names, F1 scores, and Accuracy scores\n",
    "model_names = [\"Decision Tree\", \"Random Forest\", \"Logistic Regression\", \"XGBoost\"]\n",
    "f1_scores = [0.79, 0.74, 0.62, 0.70]\n",
    "accuracies = [0.91, 0.86, 0.86, 0.86]\n",
    "\n",
    "# Set positions for the bars\n",
    "x = np.arange(len(model_names))  # the label locations\n",
    "width = 0.35  # the width of the bars\n",
    "\n",
    "# Create a grouped bar chart\n",
    "fig, ax = plt.subplots(figsize=(10, 6))\n",
    "\n",
    "# Plot F1 scores and accuracies side by side\n",
    "bars_f1 = ax.bar(x - width/2, f1_scores, width, label='F1 Score', color='blue')\n",
    "bars_accuracy = ax.bar(x + width/2, accuracies, width, label='Accuracy', color='orange')\n",
    "\n",
    "# Add some text for labels, title and custom x-axis tick labels\n",
    "ax.set_title('Model Performance Comparison (F1 Score(Macro) and Accuracy)')\n",
    "ax.set_xlabel('Models')\n",
    "ax.set_ylabel('Scores')\n",
    "ax.set_xticks(x)\n",
    "ax.set_xticklabels(model_names)\n",
    "ax.legend()\n",
    "\n",
    "# Show the plot\n",
    "plt.ylim(0, 1)\n",
    "plt.tight_layout()\n",
    "plt.show()\n"
   ]
  },
  {
   "cell_type": "markdown",
   "id": "8fc5cb93",
   "metadata": {
    "papermill": {
     "duration": 0.034546,
     "end_time": "2024-11-21T16:49:52.116552",
     "exception": false,
     "start_time": "2024-11-21T16:49:52.082006",
     "status": "completed"
    },
    "tags": []
   },
   "source": [
    "# Model Insights and Summary:\n",
    "\n",
    "**Logistic Regression (LR):**\n",
    "\n",
    "Accuracy: 86%\n",
    "Precision (class 0): 87% | Recall (class 0): 97% | F1-score (class 0): 92%\n",
    "Precision (class 1): 58% | Recall (class 1): 23% | F1-score (class 1): 32%\n",
    "\n",
    "**Insights:**\n",
    "The model performs well at predicting class 0 (no subscription) with high precision and recall. However, it struggles to identify class 1 (subscription), with low recall and a significantly lower F1-score.\n",
    "This suggests that the Logistic Regression model is biased toward predicting class 0, likely due to class imbalance in the dataset.\n",
    "The macro average metrics indicate that the model is weaker at identifying the minority class (class 1).\n",
    "\n",
    "**XGBoost:**\n",
    "\n",
    "Accuracy: 86%\n",
    "Precision (class 0): 90% | Recall (class 0): 95% | F1-score (class 0): 92%\n",
    "Precision (class 1): 58% | Recall (class 1): 41% | F1-score (class 1): 48%\n",
    "\n",
    "**Insights:**\n",
    "XGBoost improves upon Logistic Regression in terms of recall for class 1 (41%), but still struggles to identify class 1 accurately, as evidenced by a relatively low F1-score.\n",
    "The weighted average F1-score is higher compared to Logistic Regression, suggesting that the model performs better overall, though it still has a significant class imbalance issue.\n",
    "Similar to Logistic Regression, the model is stronger at predicting class 0 (non-subscriber) but less effective at predicting class 1.\n",
    "\n",
    "**Random Forest:**\n",
    "\n",
    "Accuracy: 86%\n",
    "Precision (class 0): 93% | Recall (class 0): 89% | F1-score (class 0): 91%\n",
    "Precision (class 1): 52% | Recall (class 1): 64% | F1-score (class 1): 58%\n",
    "\n",
    "**Insights:**\n",
    "Random Forest performs better than Logistic Regression and XGBoost in predicting class 1 with an F1-score of 58%. It has a better balance between precision and recall for class 1.\n",
    "While precision for class 0 is still high, Random Forest improves recall for class 1 compared to the previous models, though still not enough to address the class imbalance fully.\n",
    "The macro average F1-score indicates a more balanced model performance across both classes compared to XGBoost and Logistic Regression.\n",
    "\n",
    "**Decision Tree:**\n",
    "\n",
    "Accuracy: 91%\n",
    "Precision (class 0): 92% | Recall (class 0): 97% | F1-score (class 0): 95%\n",
    "Precision (class 1): 77% | Recall (class 1): 54% | F1-score (class 1): 64%\n",
    "\n",
    "**Insights:**\n",
    "The Decision Tree model shows a high performance for class 0, similar to the other models, with excellent precision and recall.\n",
    "For class 1, precision is good (77%), but recall is lower (54%), leading to an F1-score of 64%.\n",
    "The macro average F1-score is relatively high (79%), showing that the Decision Tree model strikes a good balance between both classes.\n",
    "However, the model performed much worse upon submission, which suggests the model might have overfitted the training data, resulting in lower performance on the test dataset."
   ]
  },
  {
   "cell_type": "code",
   "execution_count": null,
   "id": "d0c45ec6",
   "metadata": {
    "papermill": {
     "duration": 0.033966,
     "end_time": "2024-11-21T16:49:52.184740",
     "exception": false,
     "start_time": "2024-11-21T16:49:52.150774",
     "status": "completed"
    },
    "tags": []
   },
   "outputs": [],
   "source": []
  }
 ],
 "metadata": {
  "kaggle": {
   "accelerator": "none",
   "dataSources": [
    {
     "databundleVersionId": 9578279,
     "sourceId": 85062,
     "sourceType": "competition"
    },
    {
     "datasetId": 5888560,
     "sourceId": 9642778,
     "sourceType": "datasetVersion"
    }
   ],
   "dockerImageVersionId": 30786,
   "isGpuEnabled": false,
   "isInternetEnabled": false,
   "language": "python",
   "sourceType": "notebook"
  },
  "kernelspec": {
   "display_name": "Python 3",
   "language": "python",
   "name": "python3"
  },
  "language_info": {
   "codemirror_mode": {
    "name": "ipython",
    "version": 3
   },
   "file_extension": ".py",
   "mimetype": "text/x-python",
   "name": "python",
   "nbconvert_exporter": "python",
   "pygments_lexer": "ipython3",
   "version": "3.10.14"
  },
  "papermill": {
   "default_parameters": {},
   "duration": 56.703905,
   "end_time": "2024-11-21T16:49:53.344134",
   "environment_variables": {},
   "exception": null,
   "input_path": "__notebook__.ipynb",
   "output_path": "__notebook__.ipynb",
   "parameters": {},
   "start_time": "2024-11-21T16:48:56.640229",
   "version": "2.6.0"
  }
 },
 "nbformat": 4,
 "nbformat_minor": 5
}
